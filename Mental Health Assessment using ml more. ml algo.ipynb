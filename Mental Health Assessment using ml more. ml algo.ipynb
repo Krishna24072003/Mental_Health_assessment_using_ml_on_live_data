{
 "cells": [
  {
   "cell_type": "code",
   "execution_count": 1,
   "id": "9b0cd12b",
   "metadata": {},
   "outputs": [],
   "source": [
    "\n",
    "from sklearn.pipeline import Pipeline\n",
    "from sklearn.linear_model import LinearRegression\n",
    "from sklearn import tree\n",
    "import pandas as pd\n",
    "import numpy as np\n",
    "from sklearn.model_selection import train_test_split\n",
    "from sklearn.linear_model import LogisticRegression\n",
    "from sklearn.metrics import accuracy_score,precision_score,recall_score,f1_score\n",
    "from sklearn.preprocessing import StandardScaler\n",
    "from sklearn.preprocessing import LabelEncoder\n",
    "import matplotlib.pyplot as plt\n",
    "%matplotlib inline\n",
    "from sklearn.metrics import confusion_matrix \n",
    "from sklearn.tree import DecisionTreeClassifier, export_graphviz\n",
    "import graphviz\n",
    "import seaborn as sns\n",
    "from sklearn import preprocessing\n",
    "import plotly.express as px\n",
    "import plotly.graph_objects as go\n",
    "import re\n",
    "from nltk.corpus import stopwords\n",
    "from nltk.stem.porter import PorterStemmer\n",
    "from sklearn.feature_extraction.text import TfidfVectorizer\n"
   ]
  },
  {
   "cell_type": "code",
   "execution_count": 2,
   "id": "8a04149b",
   "metadata": {},
   "outputs": [],
   "source": [
    "# Load your CSV file into a DataFrame\n",
    "df = pd.read_csv('Helps Us Help You_ Mental & Emotional Wellbeing Survey  (Responses).csv')\n",
    "\n",
    "\n"
   ]
  },
  {
   "cell_type": "code",
   "execution_count": 3,
   "id": "e3ea889e",
   "metadata": {},
   "outputs": [
    {
     "data": {
      "text/html": [
       "<div>\n",
       "<style scoped>\n",
       "    .dataframe tbody tr th:only-of-type {\n",
       "        vertical-align: middle;\n",
       "    }\n",
       "\n",
       "    .dataframe tbody tr th {\n",
       "        vertical-align: top;\n",
       "    }\n",
       "\n",
       "    .dataframe thead th {\n",
       "        text-align: right;\n",
       "    }\n",
       "</style>\n",
       "<table border=\"1\" class=\"dataframe\">\n",
       "  <thead>\n",
       "    <tr style=\"text-align: right;\">\n",
       "      <th></th>\n",
       "      <th>Timestamp</th>\n",
       "      <th>Email address</th>\n",
       "      <th>Gender</th>\n",
       "      <th>Age (in Years)</th>\n",
       "      <th>1. On a scale of 1 to 10, how would you rate your current Mental and Emotional State ?</th>\n",
       "      <th>2.Have you experienced any of the following symptoms lately ?</th>\n",
       "      <th>3.How often do you find yourself thinking about what happened?</th>\n",
       "      <th>4. Do you feel comfortable talking about what you're going through ?</th>\n",
       "      <th>5. Are you currently seeking support or professional help for your mental health ?</th>\n",
       "      <th>6.Which of the following coping strategies have you tried? Please select all that apply</th>\n",
       "      <th>...</th>\n",
       "      <th>8. Are there any specific triggers or situations that make your symptoms worse?</th>\n",
       "      <th>9. How do you usually handle stress or difficult emotions ?</th>\n",
       "      <th>10. What kind of support do you feel you need most right now?</th>\n",
       "      <th>11. Did you ever have suicidal thoughts in last 1 year ?</th>\n",
       "      <th>12. You feel sad and low ?</th>\n",
       "      <th>13. You feel disinterested in things that earlier seemed pleasurable ?</th>\n",
       "      <th>14.  You have difficulty making decisions</th>\n",
       "      <th>15.  You feel tired and low on energy</th>\n",
       "      <th>16.  You believe that nothing will ever work out for me</th>\n",
       "      <th>17. How long you feel above selected conditions of your mental health ?</th>\n",
       "    </tr>\n",
       "  </thead>\n",
       "  <tbody>\n",
       "    <tr>\n",
       "      <th>0</th>\n",
       "      <td>4/13/2024 13:23:26</td>\n",
       "      <td>fatma.sia2020@gmail.com</td>\n",
       "      <td>Female</td>\n",
       "      <td>21</td>\n",
       "      <td>5 - 6 (Moderate)</td>\n",
       "      <td>Difficulty Sleeping, Persistent sadness, Hopel...</td>\n",
       "      <td>Frequently</td>\n",
       "      <td>Yes</td>\n",
       "      <td>Yes</td>\n",
       "      <td>Talking to friends or family, Seeking professi...</td>\n",
       "      <td>...</td>\n",
       "      <td>Yes</td>\n",
       "      <td>Avoidance</td>\n",
       "      <td>Emotional support</td>\n",
       "      <td>No</td>\n",
       "      <td>Some of the time</td>\n",
       "      <td>Some of the time</td>\n",
       "      <td>Never</td>\n",
       "      <td>Hardly ever</td>\n",
       "      <td>Never</td>\n",
       "      <td>Between Three Month to Six Month</td>\n",
       "    </tr>\n",
       "    <tr>\n",
       "      <th>1</th>\n",
       "      <td>4/13/2024 13:26:44</td>\n",
       "      <td>shikhawizard111@gmail.com</td>\n",
       "      <td>Female</td>\n",
       "      <td>26</td>\n",
       "      <td>7 - 8 ( High )</td>\n",
       "      <td>Hopelessness</td>\n",
       "      <td>Occasionlly</td>\n",
       "      <td>No</td>\n",
       "      <td>No</td>\n",
       "      <td>Mindfulness or meditation, Staying Alone</td>\n",
       "      <td>...</td>\n",
       "      <td>Yes</td>\n",
       "      <td>Engaging in activities I enjoy</td>\n",
       "      <td>Practical help with daily tasks</td>\n",
       "      <td>No</td>\n",
       "      <td>Some of the time</td>\n",
       "      <td>Most of the time</td>\n",
       "      <td>Some of the time</td>\n",
       "      <td>Some of the time</td>\n",
       "      <td>Some of the time</td>\n",
       "      <td>Between Three Month to Six Month</td>\n",
       "    </tr>\n",
       "    <tr>\n",
       "      <th>2</th>\n",
       "      <td>4/13/2024 13:35:20</td>\n",
       "      <td>shreyashankar5336@gmail.com</td>\n",
       "      <td>Female</td>\n",
       "      <td>22</td>\n",
       "      <td>3 - 4 ( Low )</td>\n",
       "      <td>Difficulty Sleeping, Loss of appetite, Persist...</td>\n",
       "      <td>Frequently</td>\n",
       "      <td>Yes</td>\n",
       "      <td>No</td>\n",
       "      <td>Talking to friends or family, Exercising, Stay...</td>\n",
       "      <td>...</td>\n",
       "      <td>No</td>\n",
       "      <td>Avoidance</td>\n",
       "      <td>Emotional support</td>\n",
       "      <td>Sometimes</td>\n",
       "      <td>Most of the time</td>\n",
       "      <td>Most of the time</td>\n",
       "      <td>Most of the time</td>\n",
       "      <td>Most of the time</td>\n",
       "      <td>Most of the time</td>\n",
       "      <td>Greater than Six Month</td>\n",
       "    </tr>\n",
       "    <tr>\n",
       "      <th>3</th>\n",
       "      <td>4/13/2024 13:53:37</td>\n",
       "      <td>amansamastipur123@gmail.com</td>\n",
       "      <td>Male</td>\n",
       "      <td>23</td>\n",
       "      <td>7 - 8 ( High )</td>\n",
       "      <td>Difficulty Sleeping</td>\n",
       "      <td>Occasionlly</td>\n",
       "      <td>Yes</td>\n",
       "      <td>No</td>\n",
       "      <td>Talking to friends or family</td>\n",
       "      <td>...</td>\n",
       "      <td>No</td>\n",
       "      <td>Engaging in activities I enjoy</td>\n",
       "      <td>Professional guidance</td>\n",
       "      <td>No</td>\n",
       "      <td>Hardly ever</td>\n",
       "      <td>Some of the time</td>\n",
       "      <td>Some of the time</td>\n",
       "      <td>Hardly ever</td>\n",
       "      <td>Some of the time</td>\n",
       "      <td>Greater than Six Month</td>\n",
       "    </tr>\n",
       "    <tr>\n",
       "      <th>4</th>\n",
       "      <td>4/13/2024 13:53:54</td>\n",
       "      <td>pranavraj0203@gmail.com</td>\n",
       "      <td>Male</td>\n",
       "      <td>23</td>\n",
       "      <td>7 - 8 ( High )</td>\n",
       "      <td>Difficulty Sleeping, Hopelessness</td>\n",
       "      <td>Frequently</td>\n",
       "      <td>No</td>\n",
       "      <td>No</td>\n",
       "      <td>Talking to friends or family, Exercising, Stay...</td>\n",
       "      <td>...</td>\n",
       "      <td>No</td>\n",
       "      <td>Engaging in activities I enjoy</td>\n",
       "      <td>Someone to listen without judgment</td>\n",
       "      <td>Sometimes</td>\n",
       "      <td>Some of the time</td>\n",
       "      <td>Some of the time</td>\n",
       "      <td>Some of the time</td>\n",
       "      <td>Some of the time</td>\n",
       "      <td>Most of the time</td>\n",
       "      <td>Greater than Six Month</td>\n",
       "    </tr>\n",
       "  </tbody>\n",
       "</table>\n",
       "<p>5 rows × 21 columns</p>\n",
       "</div>"
      ],
      "text/plain": [
       "            Timestamp                Email address Gender   Age (in Years)  \\\n",
       "0  4/13/2024 13:23:26      fatma.sia2020@gmail.com  Female              21   \n",
       "1  4/13/2024 13:26:44    shikhawizard111@gmail.com  Female              26   \n",
       "2  4/13/2024 13:35:20  shreyashankar5336@gmail.com  Female              22   \n",
       "3  4/13/2024 13:53:37  amansamastipur123@gmail.com   Male               23   \n",
       "4  4/13/2024 13:53:54      pranavraj0203@gmail.com   Male               23   \n",
       "\n",
       "  1. On a scale of 1 to 10, how would you rate your current Mental and Emotional State ?   \\\n",
       "0                                   5 - 6 (Moderate)                                        \n",
       "1                                     7 - 8 ( High )                                        \n",
       "2                                      3 - 4 ( Low )                                        \n",
       "3                                     7 - 8 ( High )                                        \n",
       "4                                     7 - 8 ( High )                                        \n",
       "\n",
       "  2.Have you experienced any of the following symptoms lately ?  \\\n",
       "0  Difficulty Sleeping, Persistent sadness, Hopel...              \n",
       "1                                       Hopelessness              \n",
       "2  Difficulty Sleeping, Loss of appetite, Persist...              \n",
       "3                                Difficulty Sleeping              \n",
       "4                  Difficulty Sleeping, Hopelessness              \n",
       "\n",
       "  3.How often do you find yourself thinking about what happened?  \\\n",
       "0                                         Frequently               \n",
       "1                                        Occasionlly               \n",
       "2                                         Frequently               \n",
       "3                                        Occasionlly               \n",
       "4                                         Frequently               \n",
       "\n",
       "  4. Do you feel comfortable talking about what you're going through ?  \\\n",
       "0                                                Yes                     \n",
       "1                                                 No                     \n",
       "2                                                Yes                     \n",
       "3                                                Yes                     \n",
       "4                                                 No                     \n",
       "\n",
       "  5. Are you currently seeking support or professional help for your mental health ?   \\\n",
       "0                                                Yes                                    \n",
       "1                                                 No                                    \n",
       "2                                                 No                                    \n",
       "3                                                 No                                    \n",
       "4                                                 No                                    \n",
       "\n",
       "  6.Which of the following coping strategies have you tried? Please select all that apply  \\\n",
       "0  Talking to friends or family, Seeking professi...                                        \n",
       "1           Mindfulness or meditation, Staying Alone                                        \n",
       "2  Talking to friends or family, Exercising, Stay...                                        \n",
       "3                       Talking to friends or family                                        \n",
       "4  Talking to friends or family, Exercising, Stay...                                        \n",
       "\n",
       "   ...  \\\n",
       "0  ...   \n",
       "1  ...   \n",
       "2  ...   \n",
       "3  ...   \n",
       "4  ...   \n",
       "\n",
       "  8. Are there any specific triggers or situations that make your symptoms worse?  \\\n",
       "0                                                Yes                                \n",
       "1                                                Yes                                \n",
       "2                                                 No                                \n",
       "3                                                 No                                \n",
       "4                                                 No                                \n",
       "\n",
       "  9. How do you usually handle stress or difficult emotions ?  \\\n",
       "0                                          Avoidance            \n",
       "1                     Engaging in activities I enjoy            \n",
       "2                                          Avoidance            \n",
       "3                     Engaging in activities I enjoy            \n",
       "4                     Engaging in activities I enjoy            \n",
       "\n",
       "  10. What kind of support do you feel you need most right now?  \\\n",
       "0                                  Emotional support              \n",
       "1                    Practical help with daily tasks              \n",
       "2                                  Emotional support              \n",
       "3                              Professional guidance              \n",
       "4                 Someone to listen without judgment              \n",
       "\n",
       "  11. Did you ever have suicidal thoughts in last 1 year ?  \\\n",
       "0                                                 No         \n",
       "1                                                 No         \n",
       "2                                          Sometimes         \n",
       "3                                                 No         \n",
       "4                                          Sometimes         \n",
       "\n",
       "  12. You feel sad and low ?  \\\n",
       "0           Some of the time   \n",
       "1           Some of the time   \n",
       "2           Most of the time   \n",
       "3                Hardly ever   \n",
       "4           Some of the time   \n",
       "\n",
       "  13. You feel disinterested in things that earlier seemed pleasurable ?  \\\n",
       "0                                   Some of the time                       \n",
       "1                                   Most of the time                       \n",
       "2                                   Most of the time                       \n",
       "3                                   Some of the time                       \n",
       "4                                   Some of the time                       \n",
       "\n",
       "  14.  You have difficulty making decisions  \\\n",
       "0                                     Never   \n",
       "1                          Some of the time   \n",
       "2                          Most of the time   \n",
       "3                          Some of the time   \n",
       "4                          Some of the time   \n",
       "\n",
       "  15.  You feel tired and low on energy  \\\n",
       "0                           Hardly ever   \n",
       "1                      Some of the time   \n",
       "2                      Most of the time   \n",
       "3                           Hardly ever   \n",
       "4                      Some of the time   \n",
       "\n",
       "  16.  You believe that nothing will ever work out for me  \\\n",
       "0                                              Never        \n",
       "1                                   Some of the time        \n",
       "2                                   Most of the time        \n",
       "3                                   Some of the time        \n",
       "4                                   Most of the time        \n",
       "\n",
       "  17. How long you feel above selected conditions of your mental health ?  \n",
       "0                   Between Three Month to Six Month                       \n",
       "1                   Between Three Month to Six Month                       \n",
       "2                             Greater than Six Month                       \n",
       "3                             Greater than Six Month                       \n",
       "4                             Greater than Six Month                       \n",
       "\n",
       "[5 rows x 21 columns]"
      ]
     },
     "execution_count": 3,
     "metadata": {},
     "output_type": "execute_result"
    }
   ],
   "source": [
    "df.head()"
   ]
  },
  {
   "cell_type": "code",
   "execution_count": 4,
   "id": "cb8db9e5",
   "metadata": {},
   "outputs": [],
   "source": [
    "df.drop(['Timestamp','Email address'],axis=1,inplace=True)"
   ]
  },
  {
   "cell_type": "code",
   "execution_count": 5,
   "id": "e3a0eeb3",
   "metadata": {},
   "outputs": [
    {
     "data": {
      "text/html": [
       "<div>\n",
       "<style scoped>\n",
       "    .dataframe tbody tr th:only-of-type {\n",
       "        vertical-align: middle;\n",
       "    }\n",
       "\n",
       "    .dataframe tbody tr th {\n",
       "        vertical-align: top;\n",
       "    }\n",
       "\n",
       "    .dataframe thead th {\n",
       "        text-align: right;\n",
       "    }\n",
       "</style>\n",
       "<table border=\"1\" class=\"dataframe\">\n",
       "  <thead>\n",
       "    <tr style=\"text-align: right;\">\n",
       "      <th></th>\n",
       "      <th>Gender</th>\n",
       "      <th>Age (in Years)</th>\n",
       "      <th>1. On a scale of 1 to 10, how would you rate your current Mental and Emotional State ?</th>\n",
       "      <th>2.Have you experienced any of the following symptoms lately ?</th>\n",
       "      <th>3.How often do you find yourself thinking about what happened?</th>\n",
       "      <th>4. Do you feel comfortable talking about what you're going through ?</th>\n",
       "      <th>5. Are you currently seeking support or professional help for your mental health ?</th>\n",
       "      <th>6.Which of the following coping strategies have you tried? Please select all that apply</th>\n",
       "      <th>7. How has your daily functioning been affected by what you're going through ?</th>\n",
       "      <th>8. Are there any specific triggers or situations that make your symptoms worse?</th>\n",
       "      <th>9. How do you usually handle stress or difficult emotions ?</th>\n",
       "      <th>10. What kind of support do you feel you need most right now?</th>\n",
       "      <th>11. Did you ever have suicidal thoughts in last 1 year ?</th>\n",
       "      <th>12. You feel sad and low ?</th>\n",
       "      <th>13. You feel disinterested in things that earlier seemed pleasurable ?</th>\n",
       "      <th>14.  You have difficulty making decisions</th>\n",
       "      <th>15.  You feel tired and low on energy</th>\n",
       "      <th>16.  You believe that nothing will ever work out for me</th>\n",
       "      <th>17. How long you feel above selected conditions of your mental health ?</th>\n",
       "    </tr>\n",
       "  </thead>\n",
       "  <tbody>\n",
       "    <tr>\n",
       "      <th>0</th>\n",
       "      <td>Female</td>\n",
       "      <td>21</td>\n",
       "      <td>5 - 6 (Moderate)</td>\n",
       "      <td>Difficulty Sleeping, Persistent sadness, Hopel...</td>\n",
       "      <td>Frequently</td>\n",
       "      <td>Yes</td>\n",
       "      <td>Yes</td>\n",
       "      <td>Talking to friends or family, Seeking professi...</td>\n",
       "      <td>Moderately impaired</td>\n",
       "      <td>Yes</td>\n",
       "      <td>Avoidance</td>\n",
       "      <td>Emotional support</td>\n",
       "      <td>No</td>\n",
       "      <td>Some of the time</td>\n",
       "      <td>Some of the time</td>\n",
       "      <td>Never</td>\n",
       "      <td>Hardly ever</td>\n",
       "      <td>Never</td>\n",
       "      <td>Between Three Month to Six Month</td>\n",
       "    </tr>\n",
       "    <tr>\n",
       "      <th>1</th>\n",
       "      <td>Female</td>\n",
       "      <td>26</td>\n",
       "      <td>7 - 8 ( High )</td>\n",
       "      <td>Hopelessness</td>\n",
       "      <td>Occasionlly</td>\n",
       "      <td>No</td>\n",
       "      <td>No</td>\n",
       "      <td>Mindfulness or meditation, Staying Alone</td>\n",
       "      <td>Moderately impaired</td>\n",
       "      <td>Yes</td>\n",
       "      <td>Engaging in activities I enjoy</td>\n",
       "      <td>Practical help with daily tasks</td>\n",
       "      <td>No</td>\n",
       "      <td>Some of the time</td>\n",
       "      <td>Most of the time</td>\n",
       "      <td>Some of the time</td>\n",
       "      <td>Some of the time</td>\n",
       "      <td>Some of the time</td>\n",
       "      <td>Between Three Month to Six Month</td>\n",
       "    </tr>\n",
       "    <tr>\n",
       "      <th>2</th>\n",
       "      <td>Female</td>\n",
       "      <td>22</td>\n",
       "      <td>3 - 4 ( Low )</td>\n",
       "      <td>Difficulty Sleeping, Loss of appetite, Persist...</td>\n",
       "      <td>Frequently</td>\n",
       "      <td>Yes</td>\n",
       "      <td>No</td>\n",
       "      <td>Talking to friends or family, Exercising, Stay...</td>\n",
       "      <td>Not impaired</td>\n",
       "      <td>No</td>\n",
       "      <td>Avoidance</td>\n",
       "      <td>Emotional support</td>\n",
       "      <td>Sometimes</td>\n",
       "      <td>Most of the time</td>\n",
       "      <td>Most of the time</td>\n",
       "      <td>Most of the time</td>\n",
       "      <td>Most of the time</td>\n",
       "      <td>Most of the time</td>\n",
       "      <td>Greater than Six Month</td>\n",
       "    </tr>\n",
       "    <tr>\n",
       "      <th>3</th>\n",
       "      <td>Male</td>\n",
       "      <td>23</td>\n",
       "      <td>7 - 8 ( High )</td>\n",
       "      <td>Difficulty Sleeping</td>\n",
       "      <td>Occasionlly</td>\n",
       "      <td>Yes</td>\n",
       "      <td>No</td>\n",
       "      <td>Talking to friends or family</td>\n",
       "      <td>Slightly impaired</td>\n",
       "      <td>No</td>\n",
       "      <td>Engaging in activities I enjoy</td>\n",
       "      <td>Professional guidance</td>\n",
       "      <td>No</td>\n",
       "      <td>Hardly ever</td>\n",
       "      <td>Some of the time</td>\n",
       "      <td>Some of the time</td>\n",
       "      <td>Hardly ever</td>\n",
       "      <td>Some of the time</td>\n",
       "      <td>Greater than Six Month</td>\n",
       "    </tr>\n",
       "    <tr>\n",
       "      <th>4</th>\n",
       "      <td>Male</td>\n",
       "      <td>23</td>\n",
       "      <td>7 - 8 ( High )</td>\n",
       "      <td>Difficulty Sleeping, Hopelessness</td>\n",
       "      <td>Frequently</td>\n",
       "      <td>No</td>\n",
       "      <td>No</td>\n",
       "      <td>Talking to friends or family, Exercising, Stay...</td>\n",
       "      <td>Slightly impaired</td>\n",
       "      <td>No</td>\n",
       "      <td>Engaging in activities I enjoy</td>\n",
       "      <td>Someone to listen without judgment</td>\n",
       "      <td>Sometimes</td>\n",
       "      <td>Some of the time</td>\n",
       "      <td>Some of the time</td>\n",
       "      <td>Some of the time</td>\n",
       "      <td>Some of the time</td>\n",
       "      <td>Most of the time</td>\n",
       "      <td>Greater than Six Month</td>\n",
       "    </tr>\n",
       "  </tbody>\n",
       "</table>\n",
       "</div>"
      ],
      "text/plain": [
       "  Gender   Age (in Years)  \\\n",
       "0  Female              21   \n",
       "1  Female              26   \n",
       "2  Female              22   \n",
       "3   Male               23   \n",
       "4   Male               23   \n",
       "\n",
       "  1. On a scale of 1 to 10, how would you rate your current Mental and Emotional State ?   \\\n",
       "0                                   5 - 6 (Moderate)                                        \n",
       "1                                     7 - 8 ( High )                                        \n",
       "2                                      3 - 4 ( Low )                                        \n",
       "3                                     7 - 8 ( High )                                        \n",
       "4                                     7 - 8 ( High )                                        \n",
       "\n",
       "  2.Have you experienced any of the following symptoms lately ?  \\\n",
       "0  Difficulty Sleeping, Persistent sadness, Hopel...              \n",
       "1                                       Hopelessness              \n",
       "2  Difficulty Sleeping, Loss of appetite, Persist...              \n",
       "3                                Difficulty Sleeping              \n",
       "4                  Difficulty Sleeping, Hopelessness              \n",
       "\n",
       "  3.How often do you find yourself thinking about what happened?  \\\n",
       "0                                         Frequently               \n",
       "1                                        Occasionlly               \n",
       "2                                         Frequently               \n",
       "3                                        Occasionlly               \n",
       "4                                         Frequently               \n",
       "\n",
       "  4. Do you feel comfortable talking about what you're going through ?  \\\n",
       "0                                                Yes                     \n",
       "1                                                 No                     \n",
       "2                                                Yes                     \n",
       "3                                                Yes                     \n",
       "4                                                 No                     \n",
       "\n",
       "  5. Are you currently seeking support or professional help for your mental health ?   \\\n",
       "0                                                Yes                                    \n",
       "1                                                 No                                    \n",
       "2                                                 No                                    \n",
       "3                                                 No                                    \n",
       "4                                                 No                                    \n",
       "\n",
       "  6.Which of the following coping strategies have you tried? Please select all that apply  \\\n",
       "0  Talking to friends or family, Seeking professi...                                        \n",
       "1           Mindfulness or meditation, Staying Alone                                        \n",
       "2  Talking to friends or family, Exercising, Stay...                                        \n",
       "3                       Talking to friends or family                                        \n",
       "4  Talking to friends or family, Exercising, Stay...                                        \n",
       "\n",
       "  7. How has your daily functioning been affected by what you're going through ?   \\\n",
       "0                                Moderately impaired                                \n",
       "1                                Moderately impaired                                \n",
       "2                                       Not impaired                                \n",
       "3                                  Slightly impaired                                \n",
       "4                                  Slightly impaired                                \n",
       "\n",
       "  8. Are there any specific triggers or situations that make your symptoms worse?  \\\n",
       "0                                                Yes                                \n",
       "1                                                Yes                                \n",
       "2                                                 No                                \n",
       "3                                                 No                                \n",
       "4                                                 No                                \n",
       "\n",
       "  9. How do you usually handle stress or difficult emotions ?  \\\n",
       "0                                          Avoidance            \n",
       "1                     Engaging in activities I enjoy            \n",
       "2                                          Avoidance            \n",
       "3                     Engaging in activities I enjoy            \n",
       "4                     Engaging in activities I enjoy            \n",
       "\n",
       "  10. What kind of support do you feel you need most right now?  \\\n",
       "0                                  Emotional support              \n",
       "1                    Practical help with daily tasks              \n",
       "2                                  Emotional support              \n",
       "3                              Professional guidance              \n",
       "4                 Someone to listen without judgment              \n",
       "\n",
       "  11. Did you ever have suicidal thoughts in last 1 year ?  \\\n",
       "0                                                 No         \n",
       "1                                                 No         \n",
       "2                                          Sometimes         \n",
       "3                                                 No         \n",
       "4                                          Sometimes         \n",
       "\n",
       "  12. You feel sad and low ?  \\\n",
       "0           Some of the time   \n",
       "1           Some of the time   \n",
       "2           Most of the time   \n",
       "3                Hardly ever   \n",
       "4           Some of the time   \n",
       "\n",
       "  13. You feel disinterested in things that earlier seemed pleasurable ?  \\\n",
       "0                                   Some of the time                       \n",
       "1                                   Most of the time                       \n",
       "2                                   Most of the time                       \n",
       "3                                   Some of the time                       \n",
       "4                                   Some of the time                       \n",
       "\n",
       "  14.  You have difficulty making decisions  \\\n",
       "0                                     Never   \n",
       "1                          Some of the time   \n",
       "2                          Most of the time   \n",
       "3                          Some of the time   \n",
       "4                          Some of the time   \n",
       "\n",
       "  15.  You feel tired and low on energy  \\\n",
       "0                           Hardly ever   \n",
       "1                      Some of the time   \n",
       "2                      Most of the time   \n",
       "3                           Hardly ever   \n",
       "4                      Some of the time   \n",
       "\n",
       "  16.  You believe that nothing will ever work out for me  \\\n",
       "0                                              Never        \n",
       "1                                   Some of the time        \n",
       "2                                   Most of the time        \n",
       "3                                   Some of the time        \n",
       "4                                   Most of the time        \n",
       "\n",
       "  17. How long you feel above selected conditions of your mental health ?  \n",
       "0                   Between Three Month to Six Month                       \n",
       "1                   Between Three Month to Six Month                       \n",
       "2                             Greater than Six Month                       \n",
       "3                             Greater than Six Month                       \n",
       "4                             Greater than Six Month                       "
      ]
     },
     "execution_count": 5,
     "metadata": {},
     "output_type": "execute_result"
    }
   ],
   "source": [
    "df.head()"
   ]
  },
  {
   "cell_type": "code",
   "execution_count": 6,
   "id": "fa3ad80c",
   "metadata": {},
   "outputs": [
    {
     "data": {
      "text/plain": [
       "Gender                                                                                     0\n",
       "Age (in Years)                                                                             0\n",
       "1. On a scale of 1 to 10, how would you rate your current Mental and Emotional State ?     0\n",
       "2.Have you experienced any of the following symptoms lately ?                              0\n",
       "3.How often do you find yourself thinking about what happened?                             0\n",
       "4. Do you feel comfortable talking about what you're going through ?                       0\n",
       "5. Are you currently seeking support or professional help for your mental health ?         0\n",
       "6.Which of the following coping strategies have you tried? Please select all that apply    0\n",
       "7. How has your daily functioning been affected by what you're going through ?             0\n",
       "8. Are there any specific triggers or situations that make your symptoms worse?            0\n",
       "9. How do you usually handle stress or difficult emotions ?                                0\n",
       "10. What kind of support do you feel you need most right now?                              0\n",
       "11. Did you ever have suicidal thoughts in last 1 year ?                                   0\n",
       "12. You feel sad and low ?                                                                 0\n",
       "13. You feel disinterested in things that earlier seemed pleasurable ?                     0\n",
       "14.  You have difficulty making decisions                                                  0\n",
       "15.  You feel tired and low on energy                                                      0\n",
       "16.  You believe that nothing will ever work out for me                                    0\n",
       "17. How long you feel above selected conditions of your mental health ?                    0\n",
       "dtype: int64"
      ]
     },
     "execution_count": 6,
     "metadata": {},
     "output_type": "execute_result"
    }
   ],
   "source": [
    "df.isnull().sum()"
   ]
  },
  {
   "cell_type": "code",
   "execution_count": 7,
   "id": "caed4d45",
   "metadata": {},
   "outputs": [
    {
     "data": {
      "text/plain": [
       "0"
      ]
     },
     "execution_count": 7,
     "metadata": {},
     "output_type": "execute_result"
    }
   ],
   "source": [
    "df.duplicated().sum()"
   ]
  },
  {
   "cell_type": "code",
   "execution_count": 8,
   "id": "6f6182e4",
   "metadata": {},
   "outputs": [
    {
     "data": {
      "text/plain": [
       "Gender \n",
       "Male      76\n",
       "Female    25\n",
       "Name: count, dtype: int64"
      ]
     },
     "execution_count": 8,
     "metadata": {},
     "output_type": "execute_result"
    }
   ],
   "source": [
    "df['Gender '].value_counts()"
   ]
  },
  {
   "cell_type": "code",
   "execution_count": null,
   "id": "2cdc83b2",
   "metadata": {},
   "outputs": [],
   "source": []
  },
  {
   "cell_type": "code",
   "execution_count": 9,
   "id": "0fd789b6",
   "metadata": {},
   "outputs": [],
   "source": [
    "label_encode=LabelEncoder()"
   ]
  },
  {
   "cell_type": "code",
   "execution_count": 10,
   "id": "ad12ca02",
   "metadata": {},
   "outputs": [],
   "source": [
    "labelss=label_encode.fit_transform(df['Gender '])"
   ]
  },
  {
   "cell_type": "code",
   "execution_count": 11,
   "id": "e47e487d",
   "metadata": {},
   "outputs": [
    {
     "name": "stdout",
     "output_type": "stream",
     "text": [
      "[0 0 0 1 1 1 1 1 1 1 1 1 1 1 1 1 0 0 1 0 1 1 0 1 0 1 1 0 1 1 1 1 1 0 0 1 1\n",
      " 1 0 1 1 1 1 1 0 1 1 1 0 1 0 1 0 0 0 0 1 1 1 1 1 1 0 1 1 1 1 1 1 1 1 1 1 1\n",
      " 1 1 1 1 1 0 1 1 1 1 1 1 1 1 1 1 1 0 0 1 1 1 0 1 1 1 0]\n"
     ]
    }
   ],
   "source": [
    "print(labelss)"
   ]
  },
  {
   "cell_type": "code",
   "execution_count": 12,
   "id": "a7b3c188",
   "metadata": {},
   "outputs": [],
   "source": [
    "df['Gender ']=labelss"
   ]
  },
  {
   "cell_type": "code",
   "execution_count": 13,
   "id": "3d5712f6",
   "metadata": {},
   "outputs": [
    {
     "data": {
      "text/plain": [
       "Gender \n",
       "1    76\n",
       "0    25\n",
       "Name: count, dtype: int64"
      ]
     },
     "execution_count": 13,
     "metadata": {},
     "output_type": "execute_result"
    }
   ],
   "source": [
    "df['Gender '].value_counts()"
   ]
  },
  {
   "cell_type": "code",
   "execution_count": 14,
   "id": "41bdde72",
   "metadata": {},
   "outputs": [
    {
     "name": "stdout",
     "output_type": "stream",
     "text": [
      "<class 'pandas.core.frame.DataFrame'>\n",
      "RangeIndex: 101 entries, 0 to 100\n",
      "Data columns (total 19 columns):\n",
      " #   Column                                                                                   Non-Null Count  Dtype \n",
      "---  ------                                                                                   --------------  ----- \n",
      " 0   Gender                                                                                   101 non-null    int64 \n",
      " 1   Age (in Years)                                                                           101 non-null    int64 \n",
      " 2   1. On a scale of 1 to 10, how would you rate your current Mental and Emotional State ?   101 non-null    object\n",
      " 3   2.Have you experienced any of the following symptoms lately ?                            101 non-null    object\n",
      " 4   3.How often do you find yourself thinking about what happened?                           101 non-null    object\n",
      " 5   4. Do you feel comfortable talking about what you're going through ?                     101 non-null    object\n",
      " 6   5. Are you currently seeking support or professional help for your mental health ?       101 non-null    object\n",
      " 7   6.Which of the following coping strategies have you tried? Please select all that apply  101 non-null    object\n",
      " 8   7. How has your daily functioning been affected by what you're going through ?           101 non-null    object\n",
      " 9   8. Are there any specific triggers or situations that make your symptoms worse?          101 non-null    object\n",
      " 10  9. How do you usually handle stress or difficult emotions ?                              101 non-null    object\n",
      " 11  10. What kind of support do you feel you need most right now?                            101 non-null    object\n",
      " 12  11. Did you ever have suicidal thoughts in last 1 year ?                                 101 non-null    object\n",
      " 13  12. You feel sad and low ?                                                               101 non-null    object\n",
      " 14  13. You feel disinterested in things that earlier seemed pleasurable ?                   101 non-null    object\n",
      " 15  14.  You have difficulty making decisions                                                101 non-null    object\n",
      " 16  15.  You feel tired and low on energy                                                    101 non-null    object\n",
      " 17  16.  You believe that nothing will ever work out for me                                  101 non-null    object\n",
      " 18  17. How long you feel above selected conditions of your mental health ?                  101 non-null    object\n",
      "dtypes: int64(2), object(17)\n",
      "memory usage: 15.1+ KB\n"
     ]
    }
   ],
   "source": [
    "df.info()"
   ]
  },
  {
   "cell_type": "code",
   "execution_count": 15,
   "id": "66eb2578",
   "metadata": {},
   "outputs": [
    {
     "data": {
      "text/plain": [
       "Age (in Years)\n",
       "22    28\n",
       "23    26\n",
       "21    20\n",
       "20     9\n",
       "19     8\n",
       "24     6\n",
       "18     2\n",
       "26     1\n",
       "25     1\n",
       "Name: count, dtype: int64"
      ]
     },
     "execution_count": 15,
     "metadata": {},
     "output_type": "execute_result"
    }
   ],
   "source": [
    "df['Age (in Years)'].value_counts()"
   ]
  },
  {
   "cell_type": "code",
   "execution_count": 16,
   "id": "2f42f942",
   "metadata": {},
   "outputs": [
    {
     "data": {
      "text/plain": [
       "1. On a scale of 1 to 10, how would you rate your current Mental and Emotional State ? \n",
       "5 - 6 (Moderate)        52\n",
       "7 - 8 ( High )          23\n",
       "3 - 4 ( Low )           11\n",
       "9 - 10 ( Very High )     9\n",
       "1 - 2 ( Very Low )       6\n",
       "Name: count, dtype: int64"
      ]
     },
     "execution_count": 16,
     "metadata": {},
     "output_type": "execute_result"
    }
   ],
   "source": [
    "df['1. On a scale of 1 to 10, how would you rate your current Mental and Emotional State ? '].value_counts()"
   ]
  },
  {
   "cell_type": "code",
   "execution_count": 17,
   "id": "f3e68fe7",
   "metadata": {},
   "outputs": [
    {
     "name": "stdout",
     "output_type": "stream",
     "text": [
      "[2 3 1 3 3 3 2 2 2 2 2 3 2 2 2 0 1 2 3 2 2 2 2 1 4 1 4 3 3 2 1 2 3 3 2 2 2\n",
      " 2 2 3 2 4 2 2 2 2 4 4 2 1 2 4 2 4 2 4 1 2 2 2 2 3 2 3 2 2 3 3 2 4 2 1 0 0\n",
      " 1 1 0 2 0 3 0 2 2 2 3 3 2 3 2 3 1 2 2 3 2 3 2 2 3 2 2]\n"
     ]
    }
   ],
   "source": [
    "labels=label_encode.fit_transform(df['1. On a scale of 1 to 10, how would you rate your current Mental and Emotional State ? '])\n",
    "print(labels)\n",
    "df['1. On a scale of 1 to 10, how would you rate your current Mental and Emotional State ? ']=labels\n",
    "#df"
   ]
  },
  {
   "cell_type": "code",
   "execution_count": 18,
   "id": "ae8fde26",
   "metadata": {},
   "outputs": [
    {
     "data": {
      "text/plain": [
       "1. On a scale of 1 to 10, how would you rate your current Mental and Emotional State ? \n",
       "2    52\n",
       "3    23\n",
       "1    11\n",
       "4     9\n",
       "0     6\n",
       "Name: count, dtype: int64"
      ]
     },
     "execution_count": 18,
     "metadata": {},
     "output_type": "execute_result"
    }
   ],
   "source": [
    "df['1. On a scale of 1 to 10, how would you rate your current Mental and Emotional State ? '].value_counts()"
   ]
  },
  {
   "cell_type": "code",
   "execution_count": null,
   "id": "95c8a2c4",
   "metadata": {},
   "outputs": [],
   "source": []
  },
  {
   "cell_type": "code",
   "execution_count": null,
   "id": "15ad1635",
   "metadata": {},
   "outputs": [],
   "source": []
  },
  {
   "cell_type": "code",
   "execution_count": null,
   "id": "566f8d90",
   "metadata": {},
   "outputs": [],
   "source": []
  },
  {
   "cell_type": "code",
   "execution_count": null,
   "id": "5667721c",
   "metadata": {},
   "outputs": [],
   "source": []
  },
  {
   "cell_type": "code",
   "execution_count": 19,
   "id": "16b81470",
   "metadata": {},
   "outputs": [
    {
     "data": {
      "text/plain": [
       "2.Have you experienced any of the following symptoms lately ?\n",
       "Difficulty Sleeping                                                                             20\n",
       "Difficulty Sleeping, Loss of appetite, Persistent sadness, Hopelessness, Irritability, Anger    11\n",
       "Irritability                                                                                    11\n",
       "Hopelessness                                                                                     8\n",
       "Anger                                                                                            6\n",
       "Difficulty Sleeping, Persistent sadness, Hopelessness, Irritability, Anger                       4\n",
       "Persistent sadness                                                                               4\n",
       "Loss of appetite                                                                                 3\n",
       "Difficulty Sleeping, Hopelessness, Irritability, Anger                                           3\n",
       "Irritability, Anger                                                                              3\n",
       "Persistent sadness, Irritability, Anger                                                          2\n",
       "Difficulty Sleeping, Irritability, Anger                                                         2\n",
       "Difficulty Sleeping, Loss of appetite, Anger                                                     2\n",
       "Difficulty Sleeping, Hopelessness                                                                2\n",
       "Persistent sadness, Hopelessness, Anger                                                          2\n",
       "Hopelessness, Irritability, Anger                                                                2\n",
       "Persistent sadness, Hopelessness, Irritability, Anger                                            2\n",
       "Persistent sadness, Irritability                                                                 1\n",
       "Difficulty Sleeping, Loss of appetite                                                            1\n",
       "Difficulty Sleeping, Loss of appetite, Persistent sadness, Hopelessness                          1\n",
       "Difficulty Sleeping, Persistent sadness                                                          1\n",
       "Difficulty Sleeping, Persistent sadness, Anger                                                   1\n",
       "Difficulty Sleeping, Loss of appetite, Hopelessness, Irritability, Anger                         1\n",
       "Difficulty Sleeping, Irritability                                                                1\n",
       "Hopelessness, Anger                                                                              1\n",
       "Loss of appetite, Persistent sadness, Hopelessness, Irritability                                 1\n",
       "Difficulty Sleeping, Persistent sadness, Hopelessness, Irritability                              1\n",
       "Difficulty Sleeping, Loss of appetite, Irritability, Anger                                       1\n",
       "Difficulty Sleeping, Hopelessness, Irritability                                                  1\n",
       "Persistent sadness, Hopelessness                                                                 1\n",
       "Hopelessness, Irritability                                                                       1\n",
       "Name: count, dtype: int64"
      ]
     },
     "execution_count": 19,
     "metadata": {},
     "output_type": "execute_result"
    }
   ],
   "source": [
    "df['2.Have you experienced any of the following symptoms lately ?'].value_counts()"
   ]
  },
  {
   "cell_type": "code",
   "execution_count": 20,
   "id": "a69e7b6e",
   "metadata": {},
   "outputs": [
    {
     "name": "stdout",
     "output_type": "stream",
     "text": [
      "[16 17 12  1  2 12 20 10 16 27 21  0 21 17 22 12 28  1 17 29  0  0 23 25\n",
      " 12 19  1 21  2  1 26 20  1 23  3 25  1 16  4  0 15  1  1  6 16 12  1 12\n",
      " 24 12  1  1  1  1  5 21 18 22  1 30  1 21  1 21  1 17  1  0 23 21 28 30\n",
      " 12 12 27  9 12 14 12 21 13  0  6 11 17 21  4  7 17  1  4 22 25 21 17 17\n",
      " 21 25  1  8  8]\n"
     ]
    }
   ],
   "source": [
    "labels=label_encode.fit_transform(df['2.Have you experienced any of the following symptoms lately ?'])\n",
    "print(labels)\n",
    "df['2.Have you experienced any of the following symptoms lately ?']=labels"
   ]
  },
  {
   "cell_type": "code",
   "execution_count": 21,
   "id": "3bd81be3",
   "metadata": {
    "scrolled": true
   },
   "outputs": [
    {
     "data": {
      "text/plain": [
       "2.Have you experienced any of the following symptoms lately ?\n",
       "1     20\n",
       "12    11\n",
       "21    11\n",
       "17     8\n",
       "0      6\n",
       "16     4\n",
       "25     4\n",
       "23     3\n",
       "4      3\n",
       "22     3\n",
       "30     2\n",
       "6      2\n",
       "8      2\n",
       "2      2\n",
       "27     2\n",
       "20     2\n",
       "28     2\n",
       "29     1\n",
       "7      1\n",
       "11     1\n",
       "13     1\n",
       "14     1\n",
       "9      1\n",
       "5      1\n",
       "18     1\n",
       "24     1\n",
       "15     1\n",
       "10     1\n",
       "3      1\n",
       "26     1\n",
       "19     1\n",
       "Name: count, dtype: int64"
      ]
     },
     "execution_count": 21,
     "metadata": {},
     "output_type": "execute_result"
    }
   ],
   "source": [
    "df['2.Have you experienced any of the following symptoms lately ?'].value_counts()"
   ]
  },
  {
   "cell_type": "code",
   "execution_count": null,
   "id": "231261fe",
   "metadata": {},
   "outputs": [],
   "source": []
  },
  {
   "cell_type": "code",
   "execution_count": null,
   "id": "f124b18e",
   "metadata": {},
   "outputs": [],
   "source": []
  },
  {
   "cell_type": "code",
   "execution_count": 22,
   "id": "53d1954d",
   "metadata": {},
   "outputs": [
    {
     "data": {
      "text/plain": [
       "3.How often do you find yourself thinking about what happened?\n",
       "Frequently     33\n",
       "Occasionlly    30\n",
       "Rarely         25\n",
       "Constantly     13\n",
       "Name: count, dtype: int64"
      ]
     },
     "execution_count": 22,
     "metadata": {},
     "output_type": "execute_result"
    }
   ],
   "source": [
    "df['3.How often do you find yourself thinking about what happened?'].value_counts()"
   ]
  },
  {
   "cell_type": "code",
   "execution_count": 23,
   "id": "35eee1ec",
   "metadata": {},
   "outputs": [
    {
     "name": "stdout",
     "output_type": "stream",
     "text": [
      "[1 2 1 2 1 0 2 2 1 2 1 0 2 2 2 1 1 3 3 2 1 3 3 3 0 2 3 1 2 2 1 1 1 2 1 1 3\n",
      " 2 2 3 0 3 3 1 1 0 1 2 1 2 1 3 1 1 0 3 1 2 3 3 2 3 2 3 0 1 3 2 1 3 1 0 0 0\n",
      " 1 0 1 2 0 1 0 1 2 3 2 1 3 2 3 3 1 2 2 1 2 2 1 2 3 3 3]\n"
     ]
    }
   ],
   "source": [
    "labels=label_encode.fit_transform(df['3.How often do you find yourself thinking about what happened?'])\n",
    "print(labels)\n",
    "df['3.How often do you find yourself thinking about what happened?']=labels"
   ]
  },
  {
   "cell_type": "code",
   "execution_count": 24,
   "id": "d9ae63bb",
   "metadata": {},
   "outputs": [
    {
     "data": {
      "text/plain": [
       "3.How often do you find yourself thinking about what happened?\n",
       "1    33\n",
       "2    30\n",
       "3    25\n",
       "0    13\n",
       "Name: count, dtype: int64"
      ]
     },
     "execution_count": 24,
     "metadata": {},
     "output_type": "execute_result"
    }
   ],
   "source": [
    "df['3.How often do you find yourself thinking about what happened?'].value_counts()"
   ]
  },
  {
   "cell_type": "code",
   "execution_count": 25,
   "id": "44b387a7",
   "metadata": {},
   "outputs": [
    {
     "data": {
      "text/plain": [
       "5. Are you currently seeking support or professional help for your mental health ? \n",
       "No                    84\n",
       "Yes                   10\n",
       "I'm considering it     7\n",
       "Name: count, dtype: int64"
      ]
     },
     "execution_count": 25,
     "metadata": {},
     "output_type": "execute_result"
    }
   ],
   "source": [
    "df['5. Are you currently seeking support or professional help for your mental health ? '].value_counts()"
   ]
  },
  {
   "cell_type": "code",
   "execution_count": 26,
   "id": "197ba96f",
   "metadata": {},
   "outputs": [
    {
     "name": "stdout",
     "output_type": "stream",
     "text": [
      "[2 1 1 1 1 1 1 1 1 1 1 2 1 1 1 1 2 2 1 2 1 1 2 1 1 1 1 1 1 1 1 1 1 1 1 1 1\n",
      " 1 1 1 1 1 1 1 1 0 0 1 0 1 1 1 1 0 1 1 1 1 2 1 1 1 1 1 1 1 1 1 1 1 1 1 1 0\n",
      " 1 0 1 1 1 1 1 2 1 1 1 1 1 1 2 1 1 1 1 1 1 2 1 1 1 1 0]\n"
     ]
    }
   ],
   "source": [
    "labels=label_encode.fit_transform(df['5. Are you currently seeking support or professional help for your mental health ? '])\n",
    "print(labels)\n",
    "df['5. Are you currently seeking support or professional help for your mental health ? ']=labels"
   ]
  },
  {
   "cell_type": "code",
   "execution_count": 27,
   "id": "8e6423a9",
   "metadata": {},
   "outputs": [
    {
     "data": {
      "text/plain": [
       "5. Are you currently seeking support or professional help for your mental health ? \n",
       "1    84\n",
       "2    10\n",
       "0     7\n",
       "Name: count, dtype: int64"
      ]
     },
     "execution_count": 27,
     "metadata": {},
     "output_type": "execute_result"
    }
   ],
   "source": [
    "df['5. Are you currently seeking support or professional help for your mental health ? '].value_counts()"
   ]
  },
  {
   "cell_type": "code",
   "execution_count": null,
   "id": "5e5f592a",
   "metadata": {},
   "outputs": [],
   "source": []
  },
  {
   "cell_type": "code",
   "execution_count": 28,
   "id": "0f2228c2",
   "metadata": {},
   "outputs": [
    {
     "data": {
      "text/plain": [
       "4. Do you feel comfortable talking about what you're going through ?\n",
       "Yes    51\n",
       "No     50\n",
       "Name: count, dtype: int64"
      ]
     },
     "execution_count": 28,
     "metadata": {},
     "output_type": "execute_result"
    }
   ],
   "source": [
    "df[\"4. Do you feel comfortable talking about what you're going through ?\"].value_counts()"
   ]
  },
  {
   "cell_type": "code",
   "execution_count": 29,
   "id": "f6c7bf09",
   "metadata": {},
   "outputs": [
    {
     "name": "stdout",
     "output_type": "stream",
     "text": [
      "[1 0 1 1 0 0 1 1 0 1 0 1 0 1 1 0 1 1 1 1 1 0 1 0 1 1 1 0 0 0 0 0 1 1 0 0 0\n",
      " 1 1 0 0 0 1 0 1 0 1 1 0 0 1 0 0 1 0 1 0 1 0 0 1 1 1 1 1 1 1 1 1 1 0 0 0 0\n",
      " 0 0 0 1 0 0 0 1 0 0 1 0 0 1 1 1 0 1 0 0 1 1 1 0 0 1 0]\n"
     ]
    }
   ],
   "source": [
    "labels=label_encode.fit_transform(df[\"4. Do you feel comfortable talking about what you're going through ?\"])\n",
    "print(labels)\n",
    "df[\"4. Do you feel comfortable talking about what you're going through ?\"]=labels"
   ]
  },
  {
   "cell_type": "code",
   "execution_count": 30,
   "id": "69e7b9c7",
   "metadata": {},
   "outputs": [
    {
     "data": {
      "text/plain": [
       "4. Do you feel comfortable talking about what you're going through ?\n",
       "1    51\n",
       "0    50\n",
       "Name: count, dtype: int64"
      ]
     },
     "execution_count": 30,
     "metadata": {},
     "output_type": "execute_result"
    }
   ],
   "source": [
    "df[\"4. Do you feel comfortable talking about what you're going through ?\"].value_counts()"
   ]
  },
  {
   "cell_type": "code",
   "execution_count": null,
   "id": "24d095e7",
   "metadata": {},
   "outputs": [],
   "source": []
  },
  {
   "cell_type": "code",
   "execution_count": 31,
   "id": "b9c0608c",
   "metadata": {},
   "outputs": [
    {
     "data": {
      "text/plain": [
       "6.Which of the following coping strategies have you tried? Please select all that apply\n",
       "Staying Alone                                                                                                                15\n",
       "Talking to friends or family                                                                                                 12\n",
       "Talking to friends or family, Staying Alone                                                                                  11\n",
       "Talking to friends or family, Exercising                                                                                     10\n",
       "Talking to friends or family, Exercising, Staying Alone                                                                       9\n",
       "Talking to friends or family, Exercising, Mindfulness or meditation                                                           7\n",
       "Exercising                                                                                                                    7\n",
       "Exercising, Staying Alone                                                                                                     4\n",
       "Mindfulness or meditation, Staying Alone                                                                                      4\n",
       "Exercising, Mindfulness or meditation, Staying Alone                                                                          3\n",
       "Talking to friends or family, Mindfulness or meditation                                                                       3\n",
       "Talking to friends or family, Exercising, Mindfulness or meditation, Staying Alone                                            2\n",
       "Exercising, Mindfulness or meditation                                                                                         2\n",
       "Talking to friends or family, Mindfulness or meditation, Staying Alone                                                        2\n",
       "Talking to friends or family, Exercising, Journaling, Staying Alone                                                           2\n",
       "Journaling, Staying Alone                                                                                                     1\n",
       "Talking to friends or family, Journaling, Mindfulness or meditation                                                           1\n",
       "Talking to friends or family, Seeking professional help, Staying Alone                                                        1\n",
       "Talking to friends or family, Journaling                                                                                      1\n",
       "Mindfulness or meditation                                                                                                     1\n",
       "Talking to friends or family, Exercising, Journaling, Mindfulness or meditation, Seeking professional help, Staying Alone     1\n",
       "Exercising, Journaling, Staying Alone                                                                                         1\n",
       "Talking to friends or family, Exercising, Mindfulness or meditation, Seeking professional help, Staying Alone                 1\n",
       "Name: count, dtype: int64"
      ]
     },
     "execution_count": 31,
     "metadata": {},
     "output_type": "execute_result"
    }
   ],
   "source": [
    "df['6.Which of the following coping strategies have you tried? Please select all that apply'].value_counts()"
   ]
  },
  {
   "cell_type": "code",
   "execution_count": 32,
   "id": "e26ca960",
   "metadata": {},
   "outputs": [
    {
     "name": "stdout",
     "output_type": "stream",
     "text": [
      "[21  7 16  9 16  8  3 15 16  1 22 11  8 13 16  8 22  9  9  9 22 10  9  8\n",
      "  8  9 13  6 17 10  9  8 12 10  0  8 10  7 22  7 19  4  0  9 18 10  9 15\n",
      " 13  8 20  8 22  5  8 13  8  0 22  4  9  0  8 10 19 13 16 16 16  2  8  4\n",
      "  8 20  7 19  9 13 22 10  4  0  3 12  3 22 22 10 10  0 16 14  8  9 22 13\n",
      " 22  0  2 10 16]\n"
     ]
    }
   ],
   "source": [
    "labels=label_encode.fit_transform(df['6.Which of the following coping strategies have you tried? Please select all that apply'])\n",
    "print(labels)\n",
    "df['6.Which of the following coping strategies have you tried? Please select all that apply']=labels"
   ]
  },
  {
   "cell_type": "code",
   "execution_count": 33,
   "id": "a7567c9b",
   "metadata": {},
   "outputs": [
    {
     "data": {
      "text/plain": [
       "6.Which of the following coping strategies have you tried? Please select all that apply\n",
       "8     15\n",
       "9     12\n",
       "22    11\n",
       "10    10\n",
       "16     9\n",
       "13     7\n",
       "0      7\n",
       "4      4\n",
       "7      4\n",
       "3      3\n",
       "19     3\n",
       "15     2\n",
       "2      2\n",
       "20     2\n",
       "12     2\n",
       "5      1\n",
       "18     1\n",
       "21     1\n",
       "17     1\n",
       "6      1\n",
       "11     1\n",
       "1      1\n",
       "14     1\n",
       "Name: count, dtype: int64"
      ]
     },
     "execution_count": 33,
     "metadata": {},
     "output_type": "execute_result"
    }
   ],
   "source": [
    "df['6.Which of the following coping strategies have you tried? Please select all that apply'].value_counts()"
   ]
  },
  {
   "cell_type": "code",
   "execution_count": null,
   "id": "bec16471",
   "metadata": {},
   "outputs": [],
   "source": []
  },
  {
   "cell_type": "code",
   "execution_count": null,
   "id": "646a6df8",
   "metadata": {},
   "outputs": [],
   "source": []
  },
  {
   "cell_type": "code",
   "execution_count": 34,
   "id": "04ddb797",
   "metadata": {},
   "outputs": [
    {
     "data": {
      "text/plain": [
       "7. How has your daily functioning been affected by what you're going through ? \n",
       "Slightly impaired         34\n",
       "Moderately impaired       29\n",
       "Not impaired              23\n",
       "Significantly impaired    15\n",
       "Name: count, dtype: int64"
      ]
     },
     "execution_count": 34,
     "metadata": {},
     "output_type": "execute_result"
    }
   ],
   "source": [
    "df[\"7. How has your daily functioning been affected by what you're going through ? \"].value_counts()"
   ]
  },
  {
   "cell_type": "code",
   "execution_count": 35,
   "id": "3877b5b3",
   "metadata": {},
   "outputs": [
    {
     "name": "stdout",
     "output_type": "stream",
     "text": [
      "[0 0 1 3 3 0 1 0 1 0 3 2 3 3 3 2 2 0 1 2 3 0 0 2 1 3 1 3 1 1 0 3 0 3 0 1 3\n",
      " 3 1 3 0 1 0 3 0 2 0 0 0 2 3 1 3 3 1 1 3 2 3 1 0 0 2 1 0 0 3 3 0 2 0 0 2 2\n",
      " 0 3 0 3 1 2 2 3 1 2 0 3 3 3 3 3 0 1 3 1 3 1 0 3 1 1 3]\n"
     ]
    }
   ],
   "source": [
    "labels=label_encode.fit_transform(df[\"7. How has your daily functioning been affected by what you're going through ? \"])\n",
    "print(labels)\n",
    "df[\"7. How has your daily functioning been affected by what you're going through ? \"]=labels"
   ]
  },
  {
   "cell_type": "code",
   "execution_count": 36,
   "id": "66c566bb",
   "metadata": {},
   "outputs": [
    {
     "data": {
      "text/plain": [
       "7. How has your daily functioning been affected by what you're going through ? \n",
       "3    34\n",
       "0    29\n",
       "1    23\n",
       "2    15\n",
       "Name: count, dtype: int64"
      ]
     },
     "execution_count": 36,
     "metadata": {},
     "output_type": "execute_result"
    }
   ],
   "source": [
    "df[\"7. How has your daily functioning been affected by what you're going through ? \"].value_counts()"
   ]
  },
  {
   "cell_type": "code",
   "execution_count": null,
   "id": "fb9eb0c0",
   "metadata": {},
   "outputs": [],
   "source": []
  },
  {
   "cell_type": "code",
   "execution_count": 37,
   "id": "61f72fa4",
   "metadata": {},
   "outputs": [
    {
     "data": {
      "text/plain": [
       "8. Are there any specific triggers or situations that make your symptoms worse?\n",
       "No              44\n",
       "I'm not sure    29\n",
       "Yes             28\n",
       "Name: count, dtype: int64"
      ]
     },
     "execution_count": 37,
     "metadata": {},
     "output_type": "execute_result"
    }
   ],
   "source": [
    "df['8. Are there any specific triggers or situations that make your symptoms worse?'].value_counts()"
   ]
  },
  {
   "cell_type": "code",
   "execution_count": 38,
   "id": "9b46d1de",
   "metadata": {},
   "outputs": [
    {
     "name": "stdout",
     "output_type": "stream",
     "text": [
      "[2 2 1 1 1 2 0 1 1 2 0 2 1 1 1 2 0 2 1 0 2 2 0 0 2 2 1 0 1 1 2 2 2 0 0 0 1\n",
      " 1 0 1 0 1 0 0 1 2 1 2 0 0 2 1 0 0 0 1 1 1 2 1 1 0 1 1 2 1 1 1 1 1 2 2 2 2\n",
      " 0 2 1 0 2 2 1 1 1 1 0 1 0 0 0 1 2 1 0 1 0 1 2 1 1 1 0]\n"
     ]
    }
   ],
   "source": [
    "labels=label_encode.fit_transform(df['8. Are there any specific triggers or situations that make your symptoms worse?'])\n",
    "print(labels)\n",
    "df['8. Are there any specific triggers or situations that make your symptoms worse?']=labels"
   ]
  },
  {
   "cell_type": "code",
   "execution_count": 39,
   "id": "54fb9c6c",
   "metadata": {},
   "outputs": [
    {
     "data": {
      "text/plain": [
       "8. Are there any specific triggers or situations that make your symptoms worse?\n",
       "1    44\n",
       "0    29\n",
       "2    28\n",
       "Name: count, dtype: int64"
      ]
     },
     "execution_count": 39,
     "metadata": {},
     "output_type": "execute_result"
    }
   ],
   "source": [
    "df['8. Are there any specific triggers or situations that make your symptoms worse?'].value_counts()"
   ]
  },
  {
   "cell_type": "code",
   "execution_count": null,
   "id": "12d762e0",
   "metadata": {},
   "outputs": [],
   "source": []
  },
  {
   "cell_type": "code",
   "execution_count": 40,
   "id": "698f9375",
   "metadata": {},
   "outputs": [
    {
     "data": {
      "text/plain": [
       "9. How do you usually handle stress or difficult emotions ?\n",
       "Engaging in activities I enjoy    56\n",
       "Avoidance                         26\n",
       "Meditation                        11\n",
       "Seeking support from others        8\n",
       "Name: count, dtype: int64"
      ]
     },
     "execution_count": 40,
     "metadata": {},
     "output_type": "execute_result"
    }
   ],
   "source": [
    "df['9. How do you usually handle stress or difficult emotions ?'].value_counts()"
   ]
  },
  {
   "cell_type": "code",
   "execution_count": 41,
   "id": "e7dfb22f",
   "metadata": {},
   "outputs": [
    {
     "name": "stdout",
     "output_type": "stream",
     "text": [
      "[0 1 0 1 1 0 1 2 1 1 1 0 1 1 1 0 0 0 1 3 1 3 1 1 0 1 1 2 1 1 2 0 1 1 1 1 1\n",
      " 2 3 2 0 1 1 1 1 0 0 3 3 0 1 2 0 0 1 1 1 1 1 0 1 1 1 2 3 1 1 1 3 2 0 1 0 0\n",
      " 1 1 0 1 1 3 1 0 1 1 0 1 1 1 0 1 0 1 1 1 0 2 1 0 2 2 1]\n"
     ]
    }
   ],
   "source": [
    "labels=label_encode.fit_transform(df['9. How do you usually handle stress or difficult emotions ?'])\n",
    "print(labels)\n",
    "df['9. How do you usually handle stress or difficult emotions ?']=labels"
   ]
  },
  {
   "cell_type": "code",
   "execution_count": 42,
   "id": "c706789b",
   "metadata": {},
   "outputs": [
    {
     "data": {
      "text/plain": [
       "9. How do you usually handle stress or difficult emotions ?\n",
       "1    56\n",
       "0    26\n",
       "2    11\n",
       "3     8\n",
       "Name: count, dtype: int64"
      ]
     },
     "execution_count": 42,
     "metadata": {},
     "output_type": "execute_result"
    }
   ],
   "source": [
    "df['9. How do you usually handle stress or difficult emotions ?'].value_counts()"
   ]
  },
  {
   "cell_type": "code",
   "execution_count": null,
   "id": "55b81f31",
   "metadata": {},
   "outputs": [],
   "source": []
  },
  {
   "cell_type": "code",
   "execution_count": 43,
   "id": "5dcecbe5",
   "metadata": {},
   "outputs": [
    {
     "data": {
      "text/plain": [
       "10. What kind of support do you feel you need most right now?\n",
       "Practical help with daily tasks       35\n",
       "Someone to listen without judgment    27\n",
       "Emotional support                     26\n",
       "Professional guidance                 13\n",
       "Name: count, dtype: int64"
      ]
     },
     "execution_count": 43,
     "metadata": {},
     "output_type": "execute_result"
    }
   ],
   "source": [
    "df['10. What kind of support do you feel you need most right now?'].value_counts()"
   ]
  },
  {
   "cell_type": "code",
   "execution_count": 44,
   "id": "1d464b17",
   "metadata": {},
   "outputs": [
    {
     "name": "stdout",
     "output_type": "stream",
     "text": [
      "[0 1 0 2 3 0 3 3 2 3 3 2 3 1 3 0 0 0 0 0 3 0 1 3 3 1 3 1 1 2 3 2 0 1 0 3 2\n",
      " 1 3 0 1 2 1 0 0 1 0 0 1 0 1 3 3 3 1 1 2 0 3 1 1 2 1 3 1 3 0 3 1 3 0 1 0 1\n",
      " 0 3 1 1 3 2 0 1 1 1 1 1 0 1 0 1 0 1 1 3 2 1 3 2 2 1 3]\n"
     ]
    }
   ],
   "source": [
    "labels=label_encode.fit_transform(df['10. What kind of support do you feel you need most right now?'])\n",
    "print(labels)\n",
    "df['10. What kind of support do you feel you need most right now?']=labels"
   ]
  },
  {
   "cell_type": "code",
   "execution_count": 45,
   "id": "a073f228",
   "metadata": {},
   "outputs": [
    {
     "data": {
      "text/plain": [
       "10. What kind of support do you feel you need most right now?\n",
       "1    35\n",
       "3    27\n",
       "0    26\n",
       "2    13\n",
       "Name: count, dtype: int64"
      ]
     },
     "execution_count": 45,
     "metadata": {},
     "output_type": "execute_result"
    }
   ],
   "source": [
    "df['10. What kind of support do you feel you need most right now?'].value_counts()"
   ]
  },
  {
   "cell_type": "code",
   "execution_count": null,
   "id": "194cf874",
   "metadata": {},
   "outputs": [],
   "source": []
  },
  {
   "cell_type": "code",
   "execution_count": 46,
   "id": "46d13c93",
   "metadata": {},
   "outputs": [
    {
     "data": {
      "text/plain": [
       "11. Did you ever have suicidal thoughts in last 1 year ?\n",
       "No           77\n",
       "Yes          18\n",
       "Sometimes     6\n",
       "Name: count, dtype: int64"
      ]
     },
     "execution_count": 46,
     "metadata": {},
     "output_type": "execute_result"
    }
   ],
   "source": [
    "df['11. Did you ever have suicidal thoughts in last 1 year ?'].value_counts()"
   ]
  },
  {
   "cell_type": "code",
   "execution_count": 47,
   "id": "5105d8e8",
   "metadata": {},
   "outputs": [
    {
     "name": "stdout",
     "output_type": "stream",
     "text": [
      "[0 0 1 0 1 2 2 0 0 2 0 2 0 0 0 0 1 2 0 0 0 0 0 0 0 0 0 1 0 0 0 2 2 0 0 0 0\n",
      " 0 1 0 2 0 0 0 0 0 2 0 0 0 0 0 0 2 0 0 0 2 0 0 0 0 0 0 2 0 0 0 0 0 0 0 2 2\n",
      " 0 2 2 1 2 0 0 0 0 0 2 0 0 0 0 0 0 0 0 0 0 0 0 0 0 0 0]\n"
     ]
    }
   ],
   "source": [
    "labels=label_encode.fit_transform(df['11. Did you ever have suicidal thoughts in last 1 year ?'])\n",
    "print(labels)\n",
    "df['11. Did you ever have suicidal thoughts in last 1 year ?']=labels"
   ]
  },
  {
   "cell_type": "code",
   "execution_count": 48,
   "id": "d76de016",
   "metadata": {},
   "outputs": [
    {
     "data": {
      "text/plain": [
       "11. Did you ever have suicidal thoughts in last 1 year ?\n",
       "0    77\n",
       "2    18\n",
       "1     6\n",
       "Name: count, dtype: int64"
      ]
     },
     "execution_count": 48,
     "metadata": {},
     "output_type": "execute_result"
    }
   ],
   "source": [
    "df['11. Did you ever have suicidal thoughts in last 1 year ?'].value_counts()"
   ]
  },
  {
   "cell_type": "code",
   "execution_count": null,
   "id": "222afb1c",
   "metadata": {},
   "outputs": [],
   "source": []
  },
  {
   "cell_type": "code",
   "execution_count": 49,
   "id": "df2ab428",
   "metadata": {},
   "outputs": [
    {
     "data": {
      "text/plain": [
       "12. You feel sad and low ?\n",
       "Some of the time    53\n",
       "Most of the time    18\n",
       "Hardly ever         17\n",
       "Never                8\n",
       "All the time         5\n",
       "Name: count, dtype: int64"
      ]
     },
     "execution_count": 49,
     "metadata": {},
     "output_type": "execute_result"
    }
   ],
   "source": [
    "df['12. You feel sad and low ?'].value_counts()"
   ]
  },
  {
   "cell_type": "code",
   "execution_count": 50,
   "id": "47743b9c",
   "metadata": {},
   "outputs": [
    {
     "name": "stdout",
     "output_type": "stream",
     "text": [
      "[4 4 2 1 4 4 4 2 4 4 2 0 4 1 4 0 2 3 4 4 4 1 1 2 3 4 3 1 4 3 2 2 4 1 2 1 4\n",
      " 1 2 1 1 3 1 2 4 2 4 4 4 4 4 3 4 4 4 4 2 3 2 4 4 3 4 1 0 4 1 4 4 1 2 2 0 2\n",
      " 4 4 2 4 0 4 4 4 4 1 4 4 1 4 4 4 4 4 4 4 2 4 4 4 4 1 4]\n"
     ]
    }
   ],
   "source": [
    "labels=label_encode.fit_transform(df['12. You feel sad and low ?'])\n",
    "print(labels)\n",
    "df['12. You feel sad and low ?']=labels"
   ]
  },
  {
   "cell_type": "code",
   "execution_count": 51,
   "id": "ffa363d0",
   "metadata": {},
   "outputs": [
    {
     "data": {
      "text/plain": [
       "12. You feel sad and low ?\n",
       "4    53\n",
       "2    18\n",
       "1    17\n",
       "3     8\n",
       "0     5\n",
       "Name: count, dtype: int64"
      ]
     },
     "execution_count": 51,
     "metadata": {},
     "output_type": "execute_result"
    }
   ],
   "source": [
    "df['12. You feel sad and low ?'].value_counts()"
   ]
  },
  {
   "cell_type": "code",
   "execution_count": null,
   "id": "7b293c5d",
   "metadata": {},
   "outputs": [],
   "source": []
  },
  {
   "cell_type": "code",
   "execution_count": 52,
   "id": "788d83a8",
   "metadata": {},
   "outputs": [
    {
     "data": {
      "text/plain": [
       "13. You feel disinterested in things that earlier seemed pleasurable ?\n",
       "Some of the time    50\n",
       "Hardly ever         18\n",
       "Never               16\n",
       "Most of the time    12\n",
       "All the time         5\n",
       "Name: count, dtype: int64"
      ]
     },
     "execution_count": 52,
     "metadata": {},
     "output_type": "execute_result"
    }
   ],
   "source": [
    "df['13. You feel disinterested in things that earlier seemed pleasurable ?'].value_counts()"
   ]
  },
  {
   "cell_type": "code",
   "execution_count": 53,
   "id": "40c9d632",
   "metadata": {},
   "outputs": [
    {
     "name": "stdout",
     "output_type": "stream",
     "text": [
      "[4 2 2 4 4 2 1 4 4 2 4 0 1 4 4 0 4 3 3 1 4 3 1 4 3 4 3 2 4 3 4 4 3 1 4 1 4\n",
      " 4 4 1 1 3 4 2 1 2 3 4 1 4 3 3 4 4 0 4 3 1 4 4 1 3 3 1 0 4 3 4 4 4 4 4 3 2\n",
      " 1 4 2 4 0 4 2 4 4 1 2 4 1 4 4 1 4 4 2 4 4 4 4 1 4 4 4]\n"
     ]
    }
   ],
   "source": [
    "labels=label_encode.fit_transform(df['13. You feel disinterested in things that earlier seemed pleasurable ?'])\n",
    "print(labels)\n",
    "df['13. You feel disinterested in things that earlier seemed pleasurable ?']=labels"
   ]
  },
  {
   "cell_type": "code",
   "execution_count": 54,
   "id": "1e9ab316",
   "metadata": {},
   "outputs": [
    {
     "data": {
      "text/plain": [
       "13. You feel disinterested in things that earlier seemed pleasurable ?\n",
       "4    50\n",
       "1    18\n",
       "3    16\n",
       "2    12\n",
       "0     5\n",
       "Name: count, dtype: int64"
      ]
     },
     "execution_count": 54,
     "metadata": {},
     "output_type": "execute_result"
    }
   ],
   "source": [
    "df['13. You feel disinterested in things that earlier seemed pleasurable ?'].value_counts()"
   ]
  },
  {
   "cell_type": "code",
   "execution_count": null,
   "id": "da93c4b0",
   "metadata": {},
   "outputs": [],
   "source": []
  },
  {
   "cell_type": "code",
   "execution_count": 55,
   "id": "8ab549ac",
   "metadata": {},
   "outputs": [
    {
     "data": {
      "text/plain": [
       "14.  You have difficulty making decisions\n",
       "Some of the time    46\n",
       "Never               19\n",
       "Hardly ever         18\n",
       "Most of the time    14\n",
       "All the time         4\n",
       "Name: count, dtype: int64"
      ]
     },
     "execution_count": 55,
     "metadata": {},
     "output_type": "execute_result"
    }
   ],
   "source": [
    "df['14.  You have difficulty making decisions'].value_counts()"
   ]
  },
  {
   "cell_type": "code",
   "execution_count": 56,
   "id": "4e348fb2",
   "metadata": {},
   "outputs": [
    {
     "name": "stdout",
     "output_type": "stream",
     "text": [
      "[3 4 2 4 4 3 1 3 1 4 4 0 2 1 1 0 4 3 4 4 3 3 4 4 0 4 1 4 4 3 3 4 2 4 4 4 4\n",
      " 4 4 1 1 3 1 4 4 2 3 4 4 4 2 3 2 2 3 4 4 3 4 0 4 4 1 3 3 4 1 1 4 1 3 4 3 3\n",
      " 2 2 4 2 4 1 2 1 1 4 4 2 4 4 2 4 1 4 2 4 4 1 1 4 4 4 3]\n"
     ]
    }
   ],
   "source": [
    "labels=label_encode.fit_transform(df['14.  You have difficulty making decisions'])\n",
    "print(labels)\n",
    "df['14.  You have difficulty making decisions']=labels"
   ]
  },
  {
   "cell_type": "code",
   "execution_count": 57,
   "id": "d1290d80",
   "metadata": {},
   "outputs": [
    {
     "data": {
      "text/plain": [
       "14.  You have difficulty making decisions\n",
       "4    46\n",
       "3    19\n",
       "1    18\n",
       "2    14\n",
       "0     4\n",
       "Name: count, dtype: int64"
      ]
     },
     "execution_count": 57,
     "metadata": {},
     "output_type": "execute_result"
    }
   ],
   "source": [
    "df['14.  You have difficulty making decisions'].value_counts()"
   ]
  },
  {
   "cell_type": "code",
   "execution_count": null,
   "id": "6870c33f",
   "metadata": {},
   "outputs": [],
   "source": []
  },
  {
   "cell_type": "code",
   "execution_count": 58,
   "id": "d759152b",
   "metadata": {},
   "outputs": [
    {
     "data": {
      "text/plain": [
       "15.  You feel tired and low on energy\n",
       "Some of the time    49\n",
       "Most of the time    20\n",
       "Hardly ever         17\n",
       "Never                8\n",
       "All the time         7\n",
       "Name: count, dtype: int64"
      ]
     },
     "execution_count": 58,
     "metadata": {},
     "output_type": "execute_result"
    }
   ],
   "source": [
    "df['15.  You feel tired and low on energy'].value_counts()"
   ]
  },
  {
   "cell_type": "code",
   "execution_count": 59,
   "id": "eefebbd1",
   "metadata": {},
   "outputs": [
    {
     "name": "stdout",
     "output_type": "stream",
     "text": [
      "[1 4 2 1 4 4 1 4 4 4 4 0 2 4 4 0 2 3 4 2 1 1 1 4 0 4 3 4 4 3 4 2 2 2 4 4 4\n",
      " 2 2 1 1 3 3 0 4 2 4 4 4 2 2 3 4 2 4 3 4 1 2 4 4 4 4 1 1 4 4 1 4 3 2 0 0 2\n",
      " 4 2 4 4 0 2 2 4 4 4 4 4 4 4 4 4 1 1 2 4 1 1 4 1 4 4 4]\n"
     ]
    }
   ],
   "source": [
    "labels=label_encode.fit_transform(df['15.  You feel tired and low on energy'])\n",
    "print(labels)\n",
    "df['15.  You feel tired and low on energy']=labels"
   ]
  },
  {
   "cell_type": "code",
   "execution_count": 60,
   "id": "7462922d",
   "metadata": {},
   "outputs": [
    {
     "data": {
      "text/plain": [
       "15.  You feel tired and low on energy\n",
       "4    49\n",
       "2    20\n",
       "1    17\n",
       "3     8\n",
       "0     7\n",
       "Name: count, dtype: int64"
      ]
     },
     "execution_count": 60,
     "metadata": {},
     "output_type": "execute_result"
    }
   ],
   "source": [
    "df['15.  You feel tired and low on energy'].value_counts()"
   ]
  },
  {
   "cell_type": "code",
   "execution_count": null,
   "id": "90734d61",
   "metadata": {},
   "outputs": [],
   "source": []
  },
  {
   "cell_type": "code",
   "execution_count": 61,
   "id": "2dc6649d",
   "metadata": {},
   "outputs": [
    {
     "data": {
      "text/plain": [
       "16.  You believe that nothing will ever work out for me\n",
       "Some of the time    43\n",
       "Hardly ever         21\n",
       "Never               18\n",
       "Most of the time    14\n",
       "All the time         5\n",
       "Name: count, dtype: int64"
      ]
     },
     "execution_count": 61,
     "metadata": {},
     "output_type": "execute_result"
    }
   ],
   "source": [
    "df['16.  You believe that nothing will ever work out for me'].value_counts()"
   ]
  },
  {
   "cell_type": "code",
   "execution_count": 62,
   "id": "a34fc55b",
   "metadata": {},
   "outputs": [
    {
     "name": "stdout",
     "output_type": "stream",
     "text": [
      "[3 4 2 4 2 4 1 0 4 2 4 0 4 4 1 0 4 3 3 2 4 1 3 4 3 3 3 4 1 3 2 1 4 4 2 1 1\n",
      " 4 2 1 3 3 1 0 4 4 4 4 1 2 4 3 4 4 4 2 4 1 4 0 3 2 4 1 1 4 3 4 4 3 4 4 3 2\n",
      " 4 4 4 1 2 2 4 1 3 4 1 4 4 4 4 1 4 1 4 4 1 4 1 2 3 3 1]\n"
     ]
    }
   ],
   "source": [
    "labels=label_encode.fit_transform(df['16.  You believe that nothing will ever work out for me'])\n",
    "print(labels)\n",
    "df['16.  You believe that nothing will ever work out for me']=labels"
   ]
  },
  {
   "cell_type": "code",
   "execution_count": 63,
   "id": "8c667129",
   "metadata": {},
   "outputs": [
    {
     "data": {
      "text/plain": [
       "16.  You believe that nothing will ever work out for me\n",
       "4    43\n",
       "1    21\n",
       "3    18\n",
       "2    14\n",
       "0     5\n",
       "Name: count, dtype: int64"
      ]
     },
     "execution_count": 63,
     "metadata": {},
     "output_type": "execute_result"
    }
   ],
   "source": [
    "df['16.  You believe that nothing will ever work out for me'].value_counts()"
   ]
  },
  {
   "cell_type": "code",
   "execution_count": null,
   "id": "fa4bb2a2",
   "metadata": {},
   "outputs": [],
   "source": []
  },
  {
   "cell_type": "code",
   "execution_count": 64,
   "id": "ef381731",
   "metadata": {},
   "outputs": [
    {
     "data": {
      "text/plain": [
       "17. How long you feel above selected conditions of your mental health ?\n",
       "Greater than Six Month              29\n",
       "Between Three Month to Six Month    24\n",
       "Between One Month to Three Month    24\n",
       "Less a month                        23\n",
       "Last couple of months                1\n",
       "Name: count, dtype: int64"
      ]
     },
     "execution_count": 64,
     "metadata": {},
     "output_type": "execute_result"
    }
   ],
   "source": [
    "df['17. How long you feel above selected conditions of your mental health ?'].value_counts()"
   ]
  },
  {
   "cell_type": "code",
   "execution_count": 65,
   "id": "856434ec",
   "metadata": {},
   "outputs": [
    {
     "name": "stdout",
     "output_type": "stream",
     "text": [
      "[1 1 2 2 2 3 4 2 2 2 1 2 1 0 0 2 0 4 0 0 2 4 4 2 1 2 4 1 4 4 0 1 0 4 0 1 0\n",
      " 2 1 0 4 2 4 2 0 2 0 4 4 1 1 4 1 2 2 0 4 4 0 2 0 4 0 1 4 1 4 0 0 2 1 1 4 1\n",
      " 0 2 2 2 1 1 2 4 1 1 2 0 1 0 2 2 0 4 1 4 1 2 2 0 2 0 4]\n"
     ]
    }
   ],
   "source": [
    "labels=label_encode.fit_transform(df['17. How long you feel above selected conditions of your mental health ?'])\n",
    "print(labels)\n",
    "df['17. How long you feel above selected conditions of your mental health ?']=labels"
   ]
  },
  {
   "cell_type": "code",
   "execution_count": 66,
   "id": "57fa5652",
   "metadata": {},
   "outputs": [
    {
     "data": {
      "text/plain": [
       "17. How long you feel above selected conditions of your mental health ?\n",
       "2    29\n",
       "1    24\n",
       "0    24\n",
       "4    23\n",
       "3     1\n",
       "Name: count, dtype: int64"
      ]
     },
     "execution_count": 66,
     "metadata": {},
     "output_type": "execute_result"
    }
   ],
   "source": [
    "df['17. How long you feel above selected conditions of your mental health ?'].value_counts()"
   ]
  },
  {
   "cell_type": "code",
   "execution_count": 67,
   "id": "d0675203",
   "metadata": {},
   "outputs": [
    {
     "data": {
      "text/html": [
       "<div>\n",
       "<style scoped>\n",
       "    .dataframe tbody tr th:only-of-type {\n",
       "        vertical-align: middle;\n",
       "    }\n",
       "\n",
       "    .dataframe tbody tr th {\n",
       "        vertical-align: top;\n",
       "    }\n",
       "\n",
       "    .dataframe thead th {\n",
       "        text-align: right;\n",
       "    }\n",
       "</style>\n",
       "<table border=\"1\" class=\"dataframe\">\n",
       "  <thead>\n",
       "    <tr style=\"text-align: right;\">\n",
       "      <th></th>\n",
       "      <th>Gender</th>\n",
       "      <th>Age (in Years)</th>\n",
       "      <th>1. On a scale of 1 to 10, how would you rate your current Mental and Emotional State ?</th>\n",
       "      <th>2.Have you experienced any of the following symptoms lately ?</th>\n",
       "      <th>3.How often do you find yourself thinking about what happened?</th>\n",
       "      <th>4. Do you feel comfortable talking about what you're going through ?</th>\n",
       "      <th>5. Are you currently seeking support or professional help for your mental health ?</th>\n",
       "      <th>6.Which of the following coping strategies have you tried? Please select all that apply</th>\n",
       "      <th>7. How has your daily functioning been affected by what you're going through ?</th>\n",
       "      <th>8. Are there any specific triggers or situations that make your symptoms worse?</th>\n",
       "      <th>9. How do you usually handle stress or difficult emotions ?</th>\n",
       "      <th>10. What kind of support do you feel you need most right now?</th>\n",
       "      <th>11. Did you ever have suicidal thoughts in last 1 year ?</th>\n",
       "      <th>12. You feel sad and low ?</th>\n",
       "      <th>13. You feel disinterested in things that earlier seemed pleasurable ?</th>\n",
       "      <th>14.  You have difficulty making decisions</th>\n",
       "      <th>15.  You feel tired and low on energy</th>\n",
       "      <th>16.  You believe that nothing will ever work out for me</th>\n",
       "      <th>17. How long you feel above selected conditions of your mental health ?</th>\n",
       "    </tr>\n",
       "  </thead>\n",
       "  <tbody>\n",
       "    <tr>\n",
       "      <th>0</th>\n",
       "      <td>0</td>\n",
       "      <td>21</td>\n",
       "      <td>2</td>\n",
       "      <td>16</td>\n",
       "      <td>1</td>\n",
       "      <td>1</td>\n",
       "      <td>2</td>\n",
       "      <td>21</td>\n",
       "      <td>0</td>\n",
       "      <td>2</td>\n",
       "      <td>0</td>\n",
       "      <td>0</td>\n",
       "      <td>0</td>\n",
       "      <td>4</td>\n",
       "      <td>4</td>\n",
       "      <td>3</td>\n",
       "      <td>1</td>\n",
       "      <td>3</td>\n",
       "      <td>1</td>\n",
       "    </tr>\n",
       "    <tr>\n",
       "      <th>1</th>\n",
       "      <td>0</td>\n",
       "      <td>26</td>\n",
       "      <td>3</td>\n",
       "      <td>17</td>\n",
       "      <td>2</td>\n",
       "      <td>0</td>\n",
       "      <td>1</td>\n",
       "      <td>7</td>\n",
       "      <td>0</td>\n",
       "      <td>2</td>\n",
       "      <td>1</td>\n",
       "      <td>1</td>\n",
       "      <td>0</td>\n",
       "      <td>4</td>\n",
       "      <td>2</td>\n",
       "      <td>4</td>\n",
       "      <td>4</td>\n",
       "      <td>4</td>\n",
       "      <td>1</td>\n",
       "    </tr>\n",
       "    <tr>\n",
       "      <th>2</th>\n",
       "      <td>0</td>\n",
       "      <td>22</td>\n",
       "      <td>1</td>\n",
       "      <td>12</td>\n",
       "      <td>1</td>\n",
       "      <td>1</td>\n",
       "      <td>1</td>\n",
       "      <td>16</td>\n",
       "      <td>1</td>\n",
       "      <td>1</td>\n",
       "      <td>0</td>\n",
       "      <td>0</td>\n",
       "      <td>1</td>\n",
       "      <td>2</td>\n",
       "      <td>2</td>\n",
       "      <td>2</td>\n",
       "      <td>2</td>\n",
       "      <td>2</td>\n",
       "      <td>2</td>\n",
       "    </tr>\n",
       "    <tr>\n",
       "      <th>3</th>\n",
       "      <td>1</td>\n",
       "      <td>23</td>\n",
       "      <td>3</td>\n",
       "      <td>1</td>\n",
       "      <td>2</td>\n",
       "      <td>1</td>\n",
       "      <td>1</td>\n",
       "      <td>9</td>\n",
       "      <td>3</td>\n",
       "      <td>1</td>\n",
       "      <td>1</td>\n",
       "      <td>2</td>\n",
       "      <td>0</td>\n",
       "      <td>1</td>\n",
       "      <td>4</td>\n",
       "      <td>4</td>\n",
       "      <td>1</td>\n",
       "      <td>4</td>\n",
       "      <td>2</td>\n",
       "    </tr>\n",
       "    <tr>\n",
       "      <th>4</th>\n",
       "      <td>1</td>\n",
       "      <td>23</td>\n",
       "      <td>3</td>\n",
       "      <td>2</td>\n",
       "      <td>1</td>\n",
       "      <td>0</td>\n",
       "      <td>1</td>\n",
       "      <td>16</td>\n",
       "      <td>3</td>\n",
       "      <td>1</td>\n",
       "      <td>1</td>\n",
       "      <td>3</td>\n",
       "      <td>1</td>\n",
       "      <td>4</td>\n",
       "      <td>4</td>\n",
       "      <td>4</td>\n",
       "      <td>4</td>\n",
       "      <td>2</td>\n",
       "      <td>2</td>\n",
       "    </tr>\n",
       "  </tbody>\n",
       "</table>\n",
       "</div>"
      ],
      "text/plain": [
       "   Gender   Age (in Years)  \\\n",
       "0        0              21   \n",
       "1        0              26   \n",
       "2        0              22   \n",
       "3        1              23   \n",
       "4        1              23   \n",
       "\n",
       "   1. On a scale of 1 to 10, how would you rate your current Mental and Emotional State ?   \\\n",
       "0                                                  2                                         \n",
       "1                                                  3                                         \n",
       "2                                                  1                                         \n",
       "3                                                  3                                         \n",
       "4                                                  3                                         \n",
       "\n",
       "   2.Have you experienced any of the following symptoms lately ?  \\\n",
       "0                                                 16               \n",
       "1                                                 17               \n",
       "2                                                 12               \n",
       "3                                                  1               \n",
       "4                                                  2               \n",
       "\n",
       "   3.How often do you find yourself thinking about what happened?  \\\n",
       "0                                                  1                \n",
       "1                                                  2                \n",
       "2                                                  1                \n",
       "3                                                  2                \n",
       "4                                                  1                \n",
       "\n",
       "   4. Do you feel comfortable talking about what you're going through ?  \\\n",
       "0                                                  1                      \n",
       "1                                                  0                      \n",
       "2                                                  1                      \n",
       "3                                                  1                      \n",
       "4                                                  0                      \n",
       "\n",
       "   5. Are you currently seeking support or professional help for your mental health ?   \\\n",
       "0                                                  2                                     \n",
       "1                                                  1                                     \n",
       "2                                                  1                                     \n",
       "3                                                  1                                     \n",
       "4                                                  1                                     \n",
       "\n",
       "   6.Which of the following coping strategies have you tried? Please select all that apply  \\\n",
       "0                                                 21                                         \n",
       "1                                                  7                                         \n",
       "2                                                 16                                         \n",
       "3                                                  9                                         \n",
       "4                                                 16                                         \n",
       "\n",
       "   7. How has your daily functioning been affected by what you're going through ?   \\\n",
       "0                                                  0                                 \n",
       "1                                                  0                                 \n",
       "2                                                  1                                 \n",
       "3                                                  3                                 \n",
       "4                                                  3                                 \n",
       "\n",
       "   8. Are there any specific triggers or situations that make your symptoms worse?  \\\n",
       "0                                                  2                                 \n",
       "1                                                  2                                 \n",
       "2                                                  1                                 \n",
       "3                                                  1                                 \n",
       "4                                                  1                                 \n",
       "\n",
       "   9. How do you usually handle stress or difficult emotions ?  \\\n",
       "0                                                  0             \n",
       "1                                                  1             \n",
       "2                                                  0             \n",
       "3                                                  1             \n",
       "4                                                  1             \n",
       "\n",
       "   10. What kind of support do you feel you need most right now?  \\\n",
       "0                                                  0               \n",
       "1                                                  1               \n",
       "2                                                  0               \n",
       "3                                                  2               \n",
       "4                                                  3               \n",
       "\n",
       "   11. Did you ever have suicidal thoughts in last 1 year ?  \\\n",
       "0                                                  0          \n",
       "1                                                  0          \n",
       "2                                                  1          \n",
       "3                                                  0          \n",
       "4                                                  1          \n",
       "\n",
       "   12. You feel sad and low ?  \\\n",
       "0                           4   \n",
       "1                           4   \n",
       "2                           2   \n",
       "3                           1   \n",
       "4                           4   \n",
       "\n",
       "   13. You feel disinterested in things that earlier seemed pleasurable ?  \\\n",
       "0                                                  4                        \n",
       "1                                                  2                        \n",
       "2                                                  2                        \n",
       "3                                                  4                        \n",
       "4                                                  4                        \n",
       "\n",
       "   14.  You have difficulty making decisions  \\\n",
       "0                                          3   \n",
       "1                                          4   \n",
       "2                                          2   \n",
       "3                                          4   \n",
       "4                                          4   \n",
       "\n",
       "   15.  You feel tired and low on energy  \\\n",
       "0                                      1   \n",
       "1                                      4   \n",
       "2                                      2   \n",
       "3                                      1   \n",
       "4                                      4   \n",
       "\n",
       "   16.  You believe that nothing will ever work out for me  \\\n",
       "0                                                  3         \n",
       "1                                                  4         \n",
       "2                                                  2         \n",
       "3                                                  4         \n",
       "4                                                  2         \n",
       "\n",
       "   17. How long you feel above selected conditions of your mental health ?  \n",
       "0                                                  1                        \n",
       "1                                                  1                        \n",
       "2                                                  2                        \n",
       "3                                                  2                        \n",
       "4                                                  2                        "
      ]
     },
     "execution_count": 67,
     "metadata": {},
     "output_type": "execute_result"
    }
   ],
   "source": [
    "df.head()"
   ]
  },
  {
   "cell_type": "code",
   "execution_count": 68,
   "id": "cbe7be7a",
   "metadata": {},
   "outputs": [],
   "source": [
    "m1=df.copy()"
   ]
  },
  {
   "cell_type": "code",
   "execution_count": 69,
   "id": "c5417049",
   "metadata": {},
   "outputs": [],
   "source": [
    "X=m1.drop(['1. On a scale of 1 to 10, how would you rate your current Mental and Emotional State ? '],axis=1)"
   ]
  },
  {
   "cell_type": "code",
   "execution_count": 70,
   "id": "fcf98c25",
   "metadata": {},
   "outputs": [],
   "source": [
    "Y=m1['1. On a scale of 1 to 10, how would you rate your current Mental and Emotional State ? ']"
   ]
  },
  {
   "cell_type": "code",
   "execution_count": 71,
   "id": "035c7092",
   "metadata": {
    "scrolled": true
   },
   "outputs": [
    {
     "data": {
      "text/plain": [
       "1. On a scale of 1 to 10, how would you rate your current Mental and Emotional State ? \n",
       "2    52\n",
       "3    23\n",
       "1    11\n",
       "4     9\n",
       "0     6\n",
       "Name: count, dtype: int64"
      ]
     },
     "execution_count": 71,
     "metadata": {},
     "output_type": "execute_result"
    }
   ],
   "source": [
    "Y.value_counts()"
   ]
  },
  {
   "cell_type": "code",
   "execution_count": 72,
   "id": "e92f9066",
   "metadata": {},
   "outputs": [],
   "source": [
    "#pip install --upgrade scikit-learn imbalanced-learn\n"
   ]
  },
  {
   "cell_type": "code",
   "execution_count": 73,
   "id": "0fe2fdd6",
   "metadata": {},
   "outputs": [],
   "source": [
    "import imblearn"
   ]
  },
  {
   "cell_type": "code",
   "execution_count": 74,
   "id": "33bea106",
   "metadata": {},
   "outputs": [],
   "source": [
    "#import library\n",
    "from imblearn.over_sampling import RandomOverSampler\n",
    "\n",
    "oversampler = RandomOverSampler(random_state=42)\n",
    "\n",
    "# Fit and transform your dataset\n",
    "X_resampled, y_resampled  = oversampler.fit_resample(X, Y)"
   ]
  },
  {
   "cell_type": "code",
   "execution_count": 75,
   "id": "725f0b77",
   "metadata": {},
   "outputs": [
    {
     "data": {
      "text/plain": [
       "((260, 18), (260,))"
      ]
     },
     "execution_count": 75,
     "metadata": {},
     "output_type": "execute_result"
    }
   ],
   "source": [
    "X_resampled.shape, y_resampled.shape"
   ]
  },
  {
   "cell_type": "code",
   "execution_count": 76,
   "id": "8d220f8f",
   "metadata": {},
   "outputs": [
    {
     "data": {
      "text/plain": [
       "1. On a scale of 1 to 10, how would you rate your current Mental and Emotional State ? \n",
       "2    52\n",
       "3    52\n",
       "1    52\n",
       "0    52\n",
       "4    52\n",
       "Name: count, dtype: int64"
      ]
     },
     "execution_count": 76,
     "metadata": {},
     "output_type": "execute_result"
    }
   ],
   "source": [
    "y_resampled.value_counts()"
   ]
  },
  {
   "cell_type": "code",
   "execution_count": 77,
   "id": "bef62882",
   "metadata": {},
   "outputs": [],
   "source": [
    "X,Y=X_resampled,y_resampled"
   ]
  },
  {
   "cell_type": "code",
   "execution_count": 78,
   "id": "25be9f76",
   "metadata": {},
   "outputs": [
    {
     "data": {
      "text/plain": [
       "array([[0.        , 0.375     , 0.53333333, ..., 0.25      , 0.75      ,\n",
       "        0.25      ],\n",
       "       [0.        , 1.        , 0.56666667, ..., 1.        , 1.        ,\n",
       "        0.25      ],\n",
       "       [0.        , 0.5       , 0.4       , ..., 0.5       , 0.5       ,\n",
       "        0.5       ],\n",
       "       ...,\n",
       "       [0.        , 0.375     , 0.03333333, ..., 0.5       , 1.        ,\n",
       "        0.5       ],\n",
       "       [1.        , 0.625     , 0.03333333, ..., 0.75      , 0.75      ,\n",
       "        1.        ],\n",
       "       [0.        , 0.5       , 0.7       , ..., 0.75      , 0.5       ,\n",
       "        0.        ]])"
      ]
     },
     "execution_count": 78,
     "metadata": {},
     "output_type": "execute_result"
    }
   ],
   "source": [
    "from sklearn.preprocessing import MinMaxScaler\n",
    "scalers=MinMaxScaler()\n",
    "Xs=scalers.fit_transform(X)\n",
    "Xs"
   ]
  },
  {
   "cell_type": "code",
   "execution_count": 79,
   "id": "b17f9fcd",
   "metadata": {},
   "outputs": [
    {
     "data": {
      "text/plain": [
       "array([[-1.84574637, -0.37545661,  0.36769007, ..., -1.06221133,\n",
       "         0.05395031, -0.53895239],\n",
       "       [-1.84574637,  2.6943144 ,  0.47833754, ...,  1.01429202,\n",
       "         0.87907277, -0.53895239],\n",
       "       [-1.84574637,  0.23849759, -0.07489983, ..., -0.37004354,\n",
       "        -0.77117214,  0.23097959],\n",
       "       ...,\n",
       "       [-1.84574637, -0.37545661, -1.29202205, ..., -0.37004354,\n",
       "         0.87907277,  0.23097959],\n",
       "       [ 0.54178625,  0.8524518 , -1.29202205, ...,  0.32212424,\n",
       "         0.05395031,  1.77084356],\n",
       "       [-1.84574637,  0.23849759,  0.92092744, ...,  0.32212424,\n",
       "        -0.77117214, -1.30888437]])"
      ]
     },
     "execution_count": 79,
     "metadata": {},
     "output_type": "execute_result"
    }
   ],
   "source": [
    "#standardization of the features\n",
    "from sklearn.preprocessing import StandardScaler\n",
    "Std=StandardScaler()\n",
    "Xs=Std.fit_transform(Xs)\n",
    "Xs"
   ]
  },
  {
   "cell_type": "code",
   "execution_count": 107,
   "id": "ba5e564a",
   "metadata": {},
   "outputs": [],
   "source": [
    "X_train,X_test,Y_train,Y_test=train_test_split(Xs,Y,test_size=0.20,random_state=72)"
   ]
  },
  {
   "cell_type": "code",
   "execution_count": 108,
   "id": "418e0cbe",
   "metadata": {},
   "outputs": [
    {
     "name": "stdout",
     "output_type": "stream",
     "text": [
      "Logistic Regression:\n",
      "Train Accuracy: 0.7788\n",
      "Testing Accuracy: 0.7885\n",
      "\n",
      "Support Vector Machine:\n",
      "Train Accuracy: 0.9519\n",
      "Testing Accuracy: 0.8846\n",
      "\n",
      "K-Nearest Neighbors:\n",
      "Train Accuracy: 0.7644\n",
      "Testing Accuracy: 0.6923\n",
      "\n",
      "Decision Tree:\n",
      "Train Accuracy: 1.0000\n",
      "Testing Accuracy: 0.8654\n",
      "\n",
      "Random Forest:\n",
      "Train Accuracy: 1.0000\n",
      "Testing Accuracy: 0.9231\n",
      "\n",
      "Bagging:\n",
      "Train Accuracy: 0.9952\n",
      "Testing Accuracy: 0.8846\n",
      "\n",
      "AdaBoost:\n",
      "Train Accuracy: 0.4327\n",
      "Testing Accuracy: 0.6346\n",
      "\n"
     ]
    },
    {
     "name": "stderr",
     "output_type": "stream",
     "text": [
      "/Users/pritikumari/anaconda3/lib/python3.11/site-packages/sklearn/ensemble/_weight_boosting.py:519: FutureWarning: The SAMME.R algorithm (the default) is deprecated and will be removed in 1.6. Use the SAMME algorithm to circumvent this warning.\n",
      "  warnings.warn(\n"
     ]
    },
    {
     "name": "stdout",
     "output_type": "stream",
     "text": [
      "Gradient Boosting:\n",
      "Train Accuracy: 1.0000\n",
      "Testing Accuracy: 0.8654\n",
      "\n",
      "Extra Trees:\n",
      "Train Accuracy: 1.0000\n",
      "Testing Accuracy: 0.9231\n",
      "\n",
      "Linear Discriminant Analysis:\n",
      "Train Accuracy: 0.7067\n",
      "Testing Accuracy: 0.5769\n",
      "\n",
      "Naive Bayes:\n",
      "Train Accuracy: 0.7596\n",
      "Testing Accuracy: 0.6346\n",
      "\n",
      "Neural Network:\n",
      "Train Accuracy: 0.9423\n",
      "Testing Accuracy: 0.8846\n",
      "\n"
     ]
    },
    {
     "name": "stderr",
     "output_type": "stream",
     "text": [
      "/Users/pritikumari/anaconda3/lib/python3.11/site-packages/sklearn/neural_network/_multilayer_perceptron.py:691: ConvergenceWarning: Stochastic Optimizer: Maximum iterations (200) reached and the optimization hasn't converged yet.\n",
      "  warnings.warn(\n"
     ]
    },
    {
     "name": "stdout",
     "output_type": "stream",
     "text": [
      "XGBoost:\n",
      "Train Accuracy: 1.0000\n",
      "Testing Accuracy: 0.8846\n",
      "\n",
      "CatBoost:\n",
      "Train Accuracy: 1.0000\n",
      "Testing Accuracy: 0.9231\n",
      "\n"
     ]
    }
   ],
   "source": [
    "from sklearn.discriminant_analysis import LinearDiscriminantAnalysis\n",
    "from sklearn.linear_model import LogisticRegression\n",
    "from sklearn.naive_bayes import GaussianNB\n",
    "from sklearn.svm import SVC\n",
    "from sklearn.neighbors import KNeighborsClassifier\n",
    "from sklearn.tree import DecisionTreeClassifier\n",
    "from sklearn.ensemble import RandomForestClassifier\n",
    "from sklearn.ensemble import BaggingClassifier\n",
    "from sklearn.ensemble import GradientBoostingClassifier\n",
    "from sklearn.ensemble import AdaBoostClassifier\n",
    "from sklearn.ensemble import ExtraTreesClassifier\n",
    "from sklearn.neural_network import MLPClassifier\n",
    "from sklearn.ensemble import VotingClassifier\n",
    "from sklearn.ensemble import StackingClassifier\n",
    "from xgboost import XGBClassifier\n",
    "#from lightgbm import LGBMClassifier\n",
    "from catboost import CatBoostClassifier\n",
    "\n",
    "# Define dictionary of models\n",
    "models = {\n",
    "    'Logistic Regression': LogisticRegression(),\n",
    "    'Support Vector Machine': SVC(),\n",
    "    'K-Nearest Neighbors': KNeighborsClassifier(),\n",
    "    'Decision Tree': DecisionTreeClassifier(),\n",
    "    'Random Forest': RandomForestClassifier(),\n",
    "    'Bagging': BaggingClassifier(),\n",
    "    'AdaBoost': AdaBoostClassifier(),\n",
    "    'Gradient Boosting': GradientBoostingClassifier(),\n",
    "    'Extra Trees': ExtraTreesClassifier(),\n",
    "    'Linear Discriminant Analysis': LinearDiscriminantAnalysis(),\n",
    "    'Naive Bayes': GaussianNB(),\n",
    "    'Neural Network': MLPClassifier(),\n",
    "    'XGBoost': XGBClassifier(),\n",
    "   # 'LightGBM': LGBMClassifier(),\n",
    "    'CatBoost': CatBoostClassifier(logging_level='Silent')\n",
    "}\n",
    "\n",
    "# Loop through models and print train and test accuracy\n",
    "for name, model in models.items():\n",
    "    # Train the model\n",
    "    model.fit(X_train, Y_train)\n",
    "    \n",
    "    # Predict on training data\n",
    "    X_train_prediction = model.predict(X_train)\n",
    "    train_acc = accuracy_score(X_train_prediction, Y_train)\n",
    "    print(f'{name}:\\nTrain Accuracy: {train_acc:.4f}')\n",
    "    \n",
    "    # Predict on testing data\n",
    "    y_pred = model.predict(X_test)\n",
    "    test_acc = accuracy_score(y_pred, Y_test)\n",
    "    print(f'Testing Accuracy: {test_acc:.4f}\\n')\n"
   ]
  },
  {
   "cell_type": "code",
   "execution_count": 109,
   "id": "cf86ee65",
   "metadata": {},
   "outputs": [],
   "source": [
    "#pip install catboost\n"
   ]
  },
  {
   "cell_type": "code",
   "execution_count": 110,
   "id": "66b02132",
   "metadata": {},
   "outputs": [],
   "source": [
    "#pip install lightgbm --install-option=--use-cmake\n",
    "#pip install xgboost"
   ]
  },
  {
   "cell_type": "code",
   "execution_count": 111,
   "id": "98f8546c",
   "metadata": {},
   "outputs": [
    {
     "name": "stdout",
     "output_type": "stream",
     "text": [
      "Logistic Regression:\n",
      "Train Accuracy: 0.7788\n",
      "Testing Accuracy: 0.7885\n",
      "\n",
      "Support Vector Machine:\n",
      "Train Accuracy: 0.9519\n",
      "Testing Accuracy: 0.8846\n",
      "\n",
      "K-Nearest Neighbors:\n",
      "Train Accuracy: 0.7644\n",
      "Testing Accuracy: 0.6923\n",
      "\n",
      "Decision Tree:\n",
      "Train Accuracy: 1.0000\n",
      "Testing Accuracy: 0.8654\n",
      "\n",
      "Random Forest:\n",
      "Train Accuracy: 1.0000\n",
      "Testing Accuracy: 0.9038\n",
      "\n",
      "Bagging:\n",
      "Train Accuracy: 0.9904\n",
      "Testing Accuracy: 0.8462\n",
      "\n",
      "AdaBoost:\n",
      "Train Accuracy: 0.4327\n",
      "Testing Accuracy: 0.6346\n",
      "\n"
     ]
    },
    {
     "name": "stderr",
     "output_type": "stream",
     "text": [
      "/Users/pritikumari/anaconda3/lib/python3.11/site-packages/sklearn/ensemble/_weight_boosting.py:519: FutureWarning: The SAMME.R algorithm (the default) is deprecated and will be removed in 1.6. Use the SAMME algorithm to circumvent this warning.\n",
      "  warnings.warn(\n"
     ]
    },
    {
     "name": "stdout",
     "output_type": "stream",
     "text": [
      "Gradient Boosting:\n",
      "Train Accuracy: 1.0000\n",
      "Testing Accuracy: 0.8654\n",
      "\n",
      "Extra Trees:\n",
      "Train Accuracy: 1.0000\n",
      "Testing Accuracy: 0.9231\n",
      "\n",
      "Linear Discriminant Analysis:\n",
      "Train Accuracy: 0.7067\n",
      "Testing Accuracy: 0.5769\n",
      "\n",
      "Naive Bayes:\n",
      "Train Accuracy: 0.7596\n",
      "Testing Accuracy: 0.6346\n",
      "\n"
     ]
    },
    {
     "name": "stderr",
     "output_type": "stream",
     "text": [
      "/Users/pritikumari/anaconda3/lib/python3.11/site-packages/sklearn/neural_network/_multilayer_perceptron.py:691: ConvergenceWarning: Stochastic Optimizer: Maximum iterations (200) reached and the optimization hasn't converged yet.\n",
      "  warnings.warn(\n"
     ]
    },
    {
     "name": "stdout",
     "output_type": "stream",
     "text": [
      "Neural Network:\n",
      "Train Accuracy: 0.9615\n",
      "Testing Accuracy: 0.8654\n",
      "\n",
      "XGBoost:\n",
      "Train Accuracy: 1.0000\n",
      "Testing Accuracy: 0.8846\n",
      "\n",
      "CatBoost:\n",
      "Train Accuracy: 1.0000\n",
      "Testing Accuracy: 0.9231\n",
      "\n"
     ]
    }
   ],
   "source": [
    "from sklearn.discriminant_analysis import LinearDiscriminantAnalysis\n",
    "from sklearn.linear_model import LogisticRegression\n",
    "from sklearn.naive_bayes import GaussianNB\n",
    "from sklearn.svm import SVC\n",
    "from sklearn.neighbors import KNeighborsClassifier\n",
    "from sklearn.tree import DecisionTreeClassifier\n",
    "from sklearn.ensemble import RandomForestClassifier\n",
    "from sklearn.ensemble import BaggingClassifier\n",
    "from sklearn.ensemble import GradientBoostingClassifier\n",
    "from sklearn.ensemble import AdaBoostClassifier\n",
    "from sklearn.ensemble import ExtraTreesClassifier\n",
    "from sklearn.neural_network import MLPClassifier\n",
    "from sklearn.ensemble import VotingClassifier\n",
    "from sklearn.ensemble import StackingClassifier\n",
    "from xgboost import XGBClassifier\n",
    "#from lightgbm import LGBMClassifier\n",
    "from catboost import CatBoostClassifier\n",
    "\n",
    "# Define dictionary of models\n",
    "models = {\n",
    "    'Logistic Regression': LogisticRegression(),\n",
    "    'Support Vector Machine': SVC(),\n",
    "    'K-Nearest Neighbors': KNeighborsClassifier(),\n",
    "    'Decision Tree': DecisionTreeClassifier(),\n",
    "    'Random Forest': RandomForestClassifier(),\n",
    "    'Bagging': BaggingClassifier(),\n",
    "    'AdaBoost': AdaBoostClassifier(),\n",
    "    'Gradient Boosting': GradientBoostingClassifier(),\n",
    "    'Extra Trees': ExtraTreesClassifier(),\n",
    "    'Linear Discriminant Analysis': LinearDiscriminantAnalysis(),\n",
    "    'Naive Bayes': GaussianNB(),\n",
    "    'Neural Network': MLPClassifier(),\n",
    "    'XGBoost': XGBClassifier(),\n",
    "    #'LightGBM': LGBMClassifier(),\n",
    "    'CatBoost': CatBoostClassifier(logging_level='Silent')\n",
    "}\n",
    "\n",
    "# Loop through models and print train and test accuracy\n",
    "for name, model in models.items():\n",
    "    # Train the model\n",
    "    model.fit(X_train, Y_train)\n",
    "    \n",
    "    # Predict on training data\n",
    "    X_train_prediction = model.predict(X_train)\n",
    "    train_acc = accuracy_score(X_train_prediction, Y_train)\n",
    "    print(f'{name}:\\nTrain Accuracy: {train_acc:.4f}')\n",
    "    \n",
    "    # Predict on testing data\n",
    "    y_pred = model.predict(X_test)\n",
    "    test_acc = accuracy_score(y_pred, Y_test)\n",
    "    print(f'Testing Accuracy: {test_acc:.4f}\\n')\n"
   ]
  },
  {
   "cell_type": "code",
   "execution_count": 112,
   "id": "b4f080ca",
   "metadata": {},
   "outputs": [],
   "source": [
    "#pip install xgboost\n"
   ]
  },
  {
   "cell_type": "code",
   "execution_count": 113,
   "id": "639b2420",
   "metadata": {},
   "outputs": [],
   "source": [
    "\n",
    "#pip install lightgbm\n"
   ]
  },
  {
   "cell_type": "code",
   "execution_count": 114,
   "id": "efe0ce97",
   "metadata": {},
   "outputs": [],
   "source": [
    "#brew install libomp"
   ]
  },
  {
   "cell_type": "code",
   "execution_count": 115,
   "id": "96af47ea",
   "metadata": {},
   "outputs": [],
   "source": [
    "#brew install libomp"
   ]
  },
  {
   "cell_type": "code",
   "execution_count": 116,
   "id": "b6cb23dc",
   "metadata": {},
   "outputs": [
    {
     "name": "stdout",
     "output_type": "stream",
     "text": [
      "Logistic Regression:\n",
      "Train Accuracy: 0.7788\n",
      "Testing Accuracy: 0.7885\n",
      "\n",
      "Support Vector Machine:\n",
      "Train Accuracy: 0.9519\n",
      "Testing Accuracy: 0.8846\n",
      "\n",
      "K-Nearest Neighbors:\n",
      "Train Accuracy: 0.7644\n",
      "Testing Accuracy: 0.6923\n",
      "\n",
      "Decision Tree:\n",
      "Train Accuracy: 1.0000\n",
      "Testing Accuracy: 0.8654\n",
      "\n",
      "Random Forest:\n",
      "Train Accuracy: 1.0000\n",
      "Testing Accuracy: 0.9231\n",
      "\n",
      "Bagging:\n",
      "Train Accuracy: 0.9808\n",
      "Testing Accuracy: 0.8654\n",
      "\n",
      "AdaBoost:\n",
      "Train Accuracy: 0.4327\n",
      "Testing Accuracy: 0.6346\n",
      "\n"
     ]
    },
    {
     "name": "stderr",
     "output_type": "stream",
     "text": [
      "/Users/pritikumari/anaconda3/lib/python3.11/site-packages/sklearn/ensemble/_weight_boosting.py:519: FutureWarning: The SAMME.R algorithm (the default) is deprecated and will be removed in 1.6. Use the SAMME algorithm to circumvent this warning.\n",
      "  warnings.warn(\n"
     ]
    },
    {
     "name": "stdout",
     "output_type": "stream",
     "text": [
      "Gradient Boosting:\n",
      "Train Accuracy: 1.0000\n",
      "Testing Accuracy: 0.8654\n",
      "\n",
      "Extra Trees:\n",
      "Train Accuracy: 1.0000\n",
      "Testing Accuracy: 0.9231\n",
      "\n",
      "Linear Discriminant Analysis:\n",
      "Train Accuracy: 0.7067\n",
      "Testing Accuracy: 0.5769\n",
      "\n",
      "Naive Bayes:\n",
      "Train Accuracy: 0.7596\n",
      "Testing Accuracy: 0.6346\n",
      "\n"
     ]
    },
    {
     "name": "stderr",
     "output_type": "stream",
     "text": [
      "/Users/pritikumari/anaconda3/lib/python3.11/site-packages/sklearn/neural_network/_multilayer_perceptron.py:691: ConvergenceWarning: Stochastic Optimizer: Maximum iterations (200) reached and the optimization hasn't converged yet.\n",
      "  warnings.warn(\n"
     ]
    },
    {
     "name": "stdout",
     "output_type": "stream",
     "text": [
      "Neural Network:\n",
      "Train Accuracy: 0.9615\n",
      "Testing Accuracy: 0.8846\n",
      "\n",
      "XGBoost:\n",
      "Train Accuracy: 1.0000\n",
      "Testing Accuracy: 0.8846\n",
      "\n",
      "CatBoost:\n",
      "Train Accuracy: 1.0000\n",
      "Testing Accuracy: 0.9231\n",
      "\n"
     ]
    },
    {
     "name": "stderr",
     "output_type": "stream",
     "text": [
      "/Users/pritikumari/anaconda3/lib/python3.11/site-packages/sklearn/ensemble/_weight_boosting.py:519: FutureWarning: The SAMME.R algorithm (the default) is deprecated and will be removed in 1.6. Use the SAMME algorithm to circumvent this warning.\n",
      "  warnings.warn(\n",
      "/Users/pritikumari/anaconda3/lib/python3.11/site-packages/sklearn/neural_network/_multilayer_perceptron.py:691: ConvergenceWarning: Stochastic Optimizer: Maximum iterations (200) reached and the optimization hasn't converged yet.\n",
      "  warnings.warn(\n"
     ]
    },
    {
     "data": {
      "image/png": "[encoded data removed]",
      "text/plain": [
       "<Figure size 1000x800 with 1 Axes>"
      ]
     },
     "metadata": {},
     "output_type": "display_data"
    }
   ],
   "source": [
    "from sklearn.discriminant_analysis import LinearDiscriminantAnalysis\n",
    "from sklearn.linear_model import LogisticRegression\n",
    "from sklearn.naive_bayes import GaussianNB\n",
    "from sklearn.svm import SVC\n",
    "from sklearn.neighbors import KNeighborsClassifier\n",
    "from sklearn.tree import DecisionTreeClassifier\n",
    "from sklearn.ensemble import RandomForestClassifier\n",
    "from sklearn.ensemble import BaggingClassifier\n",
    "from sklearn.ensemble import GradientBoostingClassifier\n",
    "from sklearn.ensemble import AdaBoostClassifier\n",
    "from sklearn.ensemble import ExtraTreesClassifier\n",
    "from sklearn.neural_network import MLPClassifier\n",
    "from sklearn.ensemble import VotingClassifier\n",
    "from sklearn.ensemble import StackingClassifier\n",
    "from xgboost import XGBClassifier\n",
    "#from lightgbm import LGBMClassifier\n",
    "from catboost import CatBoostClassifier\n",
    "\n",
    "# Define dictionary of models\n",
    "models = {\n",
    "    'Logistic Regression': LogisticRegression(),\n",
    "    'Support Vector Machine': SVC(),\n",
    "    'K-Nearest Neighbors': KNeighborsClassifier(),\n",
    "    'Decision Tree': DecisionTreeClassifier(),\n",
    "    'Random Forest': RandomForestClassifier(),\n",
    "    'Bagging': BaggingClassifier(),\n",
    "    'AdaBoost': AdaBoostClassifier(),\n",
    "    'Gradient Boosting': GradientBoostingClassifier(),\n",
    "    'Extra Trees': ExtraTreesClassifier(),\n",
    "    'Linear Discriminant Analysis': LinearDiscriminantAnalysis(),\n",
    "    'Naive Bayes': GaussianNB(),\n",
    "    'Neural Network': MLPClassifier(),\n",
    "    'XGBoost': XGBClassifier(),\n",
    "    #'LightGBM': LGBMClassifier(),\n",
    "    'CatBoost': CatBoostClassifier(logging_level='Silent')\n",
    "}\n",
    "\n",
    "# Loop through models and print train and test accuracy\n",
    "for name, model in models.items():\n",
    "    # Train the model\n",
    "    model.fit(X_train, Y_train)\n",
    "    \n",
    "    # Predict on training data\n",
    "    X_train_prediction = model.predict(X_train)\n",
    "    train_acc = accuracy_score(X_train_prediction, Y_train)\n",
    "    print(f'{name}:\\nTrain Accuracy: {train_acc:.4f}')\n",
    "    \n",
    "    # Predict on testing data\n",
    "    y_pred = model.predict(X_test)\n",
    "    test_acc = accuracy_score(y_pred, Y_test)\n",
    "    print(f'Testing Accuracy: {test_acc:.4f}\\n')\n",
    "    import seaborn as sns\n",
    "import matplotlib.pyplot as plt\n",
    "\n",
    "# Lists to store model names, training accuracies, and testing accuracies\n",
    "model_names = []\n",
    "train_accuracies = []\n",
    "test_accuracies = []\n",
    "\n",
    "# Loop through models and calculate accuracies\n",
    "for name, model in models.items():\n",
    "    # Train the model\n",
    "    model.fit(X_train, Y_train)\n",
    "    \n",
    "    # Predict on training data\n",
    "    X_train_prediction = model.predict(X_train)\n",
    "    train_acc = accuracy_score(X_train_prediction, Y_train)\n",
    "    \n",
    "    # Predict on testing data\n",
    "    y_pred = model.predict(X_test)\n",
    "    test_acc = accuracy_score(y_pred, Y_test)\n",
    "    \n",
    "    # Append results to lists\n",
    "    model_names.append(name)\n",
    "    train_accuracies.append(train_acc)\n",
    "    test_accuracies.append(test_acc)\n",
    "\n",
    "# Create a DataFrame for plotting\n",
    "data = pd.DataFrame({'Model': model_names,\n",
    "                     'Train Accuracy': train_accuracies,\n",
    "                     'Test Accuracy': test_accuracies})\n",
    "\n",
    "# Plotting the results using Seaborn\n",
    "plt.figure(figsize=(10, 8))\n",
    "sns.barplot(data=data.melt(id_vars='Model'), x='value', y='Model', hue='variable', palette='muted', orient='h')\n",
    "plt.xlabel('Accuracy')\n",
    "plt.title('Model Performance')\n",
    "plt.legend(title=None)\n",
    "plt.gca().invert_yaxis()  # Invert y-axis to display the models in descending order\n",
    "plt.show()\n"
   ]
  },
  {
   "cell_type": "code",
   "execution_count": 117,
   "id": "db1d2bce",
   "metadata": {},
   "outputs": [
    {
     "name": "stdout",
     "output_type": "stream",
     "text": [
      "Logistic Regression:\n",
      "Train Accuracy: 0.7788\n",
      "Testing Accuracy: 0.7885\n",
      "\n",
      "Support Vector Machine:\n",
      "Train Accuracy: 0.9519\n",
      "Testing Accuracy: 0.8846\n",
      "\n",
      "K-Nearest Neighbors:\n",
      "Train Accuracy: 0.7644\n",
      "Testing Accuracy: 0.6923\n",
      "\n",
      "Decision Tree:\n",
      "Train Accuracy: 1.0000\n",
      "Testing Accuracy: 0.8654\n",
      "\n",
      "Random Forest:\n",
      "Train Accuracy: 1.0000\n",
      "Testing Accuracy: 0.9038\n",
      "\n",
      "Bagging:\n",
      "Train Accuracy: 0.9952\n",
      "Testing Accuracy: 0.8846\n",
      "\n",
      "AdaBoost:\n",
      "Train Accuracy: 0.4327\n",
      "Testing Accuracy: 0.6346\n",
      "\n"
     ]
    },
    {
     "name": "stderr",
     "output_type": "stream",
     "text": [
      "/Users/pritikumari/anaconda3/lib/python3.11/site-packages/sklearn/ensemble/_weight_boosting.py:519: FutureWarning: The SAMME.R algorithm (the default) is deprecated and will be removed in 1.6. Use the SAMME algorithm to circumvent this warning.\n",
      "  warnings.warn(\n"
     ]
    },
    {
     "name": "stdout",
     "output_type": "stream",
     "text": [
      "Gradient Boosting:\n",
      "Train Accuracy: 1.0000\n",
      "Testing Accuracy: 0.8654\n",
      "\n",
      "Extra Trees:\n",
      "Train Accuracy: 1.0000\n",
      "Testing Accuracy: 0.9231\n",
      "\n",
      "Linear Discriminant Analysis:\n",
      "Train Accuracy: 0.7067\n",
      "Testing Accuracy: 0.5769\n",
      "\n",
      "Naive Bayes:\n",
      "Train Accuracy: 0.7596\n",
      "Testing Accuracy: 0.6346\n",
      "\n",
      "Neural Network:\n",
      "Train Accuracy: 0.9519\n",
      "Testing Accuracy: 0.8462\n",
      "\n"
     ]
    },
    {
     "name": "stderr",
     "output_type": "stream",
     "text": [
      "/Users/pritikumari/anaconda3/lib/python3.11/site-packages/sklearn/neural_network/_multilayer_perceptron.py:691: ConvergenceWarning: Stochastic Optimizer: Maximum iterations (200) reached and the optimization hasn't converged yet.\n",
      "  warnings.warn(\n"
     ]
    },
    {
     "name": "stdout",
     "output_type": "stream",
     "text": [
      "XGBoost:\n",
      "Train Accuracy: 1.0000\n",
      "Testing Accuracy: 0.8846\n",
      "\n",
      "CatBoost:\n",
      "Train Accuracy: 1.0000\n",
      "Testing Accuracy: 0.9231\n",
      "\n"
     ]
    },
    {
     "name": "stderr",
     "output_type": "stream",
     "text": [
      "/Users/pritikumari/anaconda3/lib/python3.11/site-packages/sklearn/ensemble/_weight_boosting.py:519: FutureWarning: The SAMME.R algorithm (the default) is deprecated and will be removed in 1.6. Use the SAMME algorithm to circumvent this warning.\n",
      "  warnings.warn(\n",
      "/Users/pritikumari/anaconda3/lib/python3.11/site-packages/sklearn/neural_network/_multilayer_perceptron.py:691: ConvergenceWarning: Stochastic Optimizer: Maximum iterations (200) reached and the optimization hasn't converged yet.\n",
      "  warnings.warn(\n"
     ]
    },
    {
     "data": {
      "image/png": "[encoded data removed]",
      "text/plain": [
       "<Figure size 1000x800 with 1 Axes>"
      ]
     },
     "metadata": {},
     "output_type": "display_data"
    }
   ],
   "source": [
    "from sklearn.discriminant_analysis import LinearDiscriminantAnalysis\n",
    "from sklearn.linear_model import LogisticRegression\n",
    "from sklearn.naive_bayes import GaussianNB\n",
    "from sklearn.svm import SVC\n",
    "from sklearn.neighbors import KNeighborsClassifier\n",
    "from sklearn.tree import DecisionTreeClassifier\n",
    "from sklearn.ensemble import RandomForestClassifier\n",
    "from sklearn.ensemble import BaggingClassifier\n",
    "from sklearn.ensemble import GradientBoostingClassifier\n",
    "from sklearn.ensemble import AdaBoostClassifier\n",
    "from sklearn.ensemble import ExtraTreesClassifier\n",
    "from sklearn.neural_network import MLPClassifier\n",
    "from sklearn.ensemble import VotingClassifier\n",
    "from sklearn.ensemble import StackingClassifier\n",
    "from xgboost import XGBClassifier\n",
    "#from lightgbm import LGBMClassifier\n",
    "from catboost import CatBoostClassifier\n",
    "\n",
    "# Define dictionary of models\n",
    "models = {\n",
    "    'Logistic Regression': LogisticRegression(),\n",
    "    'Support Vector Machine': SVC(),\n",
    "    'K-Nearest Neighbors': KNeighborsClassifier(),\n",
    "    'Decision Tree': DecisionTreeClassifier(),\n",
    "    'Random Forest': RandomForestClassifier(),\n",
    "    'Bagging': BaggingClassifier(),\n",
    "    'AdaBoost': AdaBoostClassifier(),\n",
    "    'Gradient Boosting': GradientBoostingClassifier(),\n",
    "    'Extra Trees': ExtraTreesClassifier(),\n",
    "    'Linear Discriminant Analysis': LinearDiscriminantAnalysis(),\n",
    "    'Naive Bayes': GaussianNB(),\n",
    "    'Neural Network': MLPClassifier(),\n",
    "    'XGBoost': XGBClassifier(),\n",
    "    #'LightGBM': LGBMClassifier(),\n",
    "    'CatBoost': CatBoostClassifier(logging_level='Silent')\n",
    "}\n",
    "\n",
    "# Loop through models and print train and test accuracy\n",
    "for name, model in models.items():\n",
    "    # Train the model\n",
    "    model.fit(X_train, Y_train)\n",
    "    \n",
    "    # Predict on training data\n",
    "    X_train_prediction = model.predict(X_train)\n",
    "    train_acc = accuracy_score(X_train_prediction, Y_train)\n",
    "    print(f'{name}:\\nTrain Accuracy: {train_acc:.4f}')\n",
    "    \n",
    "    # Predict on testing data\n",
    "    y_pred = model.predict(X_test)\n",
    "    test_acc = accuracy_score(y_pred, Y_test)\n",
    "    print(f'Testing Accuracy: {test_acc:.4f}\\n')\n",
    "    import seaborn as sns\n",
    "import matplotlib.pyplot as plt\n",
    "\n",
    "# Lists to store model names, training accuracies, and testing accuracies\n",
    "model_names = []\n",
    "train_accuracies = []\n",
    "test_accuracies = []\n",
    "\n",
    "# Loop through models and calculate accuracies\n",
    "for name, model in models.items():\n",
    "    # Train the model\n",
    "    model.fit(X_train, Y_train)\n",
    "    \n",
    "    # Predict on training data\n",
    "    X_train_prediction = model.predict(X_train)\n",
    "    train_acc = accuracy_score(X_train_prediction, Y_train)\n",
    "    \n",
    "    # Predict on testing data\n",
    "    y_pred = model.predict(X_test)\n",
    "    test_acc = accuracy_score(y_pred, Y_test)\n",
    "    \n",
    "    # Append results to lists\n",
    "    model_names.append(name)\n",
    "    train_accuracies.append(train_acc)\n",
    "    test_accuracies.append(test_acc)\n",
    "\n",
    "# Create a DataFrame for plotting\n",
    "data = pd.DataFrame({'Model': model_names,\n",
    "                     'Train Accuracy': train_accuracies,\n",
    "                     'Test Accuracy': test_accuracies})\n",
    "\n",
    "# Plotting the results using Seaborn\n",
    "plt.figure(figsize=(10, 8))\n",
    "sns.barplot(data=data.melt(id_vars='Model'), x='value', y='Model', hue='variable', palette='muted', orient='h')\n",
    "plt.xlabel('Accuracy')\n",
    "plt.title('Model Performance')\n",
    "plt.legend(title=None)\n",
    "# plt.gca().invert_yaxis()\n",
    "plt.xticks(rotation=45, ha='right')\n",
    "# Invert y-axis to display the models in descending order\n",
    "plt.show()\n"
   ]
  },
  {
   "cell_type": "code",
   "execution_count": 118,
   "id": "def03fb7",
   "metadata": {},
   "outputs": [],
   "source": [
    "model=ExtraTreesClassifier()"
   ]
  },
  {
   "cell_type": "code",
   "execution_count": 119,
   "id": "635ebe32",
   "metadata": {},
   "outputs": [
    {
     "data": {
      "text/html": [
       "<style>#sk-container-id-1 {\n",
       "  /* Definition of color scheme common for light and dark mode */\n",
       "  --sklearn-color-text: black;\n",
       "  --sklearn-color-line: gray;\n",
       "  /* Definition of color scheme for unfitted estimators */\n",
       "  --sklearn-color-unfitted-level-0: #fff5e6;\n",
       "  --sklearn-color-unfitted-level-1: #f6e4d2;\n",
       "  --sklearn-color-unfitted-level-2: #ffe0b3;\n",
       "  --sklearn-color-unfitted-level-3: chocolate;\n",
       "  /* Definition of color scheme for fitted estimators */\n",
       "  --sklearn-color-fitted-level-0: #f0f8ff;\n",
       "  --sklearn-color-fitted-level-1: #d4ebff;\n",
       "  --sklearn-color-fitted-level-2: #b3dbfd;\n",
       "  --sklearn-color-fitted-level-3: cornflowerblue;\n",
       "\n",
       "  /* Specific color for light theme */\n",
       "  --sklearn-color-text-on-default-background: var(--sg-text-color, var(--theme-code-foreground, var(--jp-content-font-color1, black)));\n",
       "  --sklearn-color-background: var(--sg-background-color, var(--theme-background, var(--jp-layout-color0, white)));\n",
       "  --sklearn-color-border-box: var(--sg-text-color, var(--theme-code-foreground, var(--jp-content-font-color1, black)));\n",
       "  --sklearn-color-icon: #696969;\n",
       "\n",
       "  @media (prefers-color-scheme: dark) {\n",
       "    /* Redefinition of color scheme for dark theme */\n",
       "    --sklearn-color-text-on-default-background: var(--sg-text-color, var(--theme-code-foreground, var(--jp-content-font-color1, white)));\n",
       "    --sklearn-color-background: var(--sg-background-color, var(--theme-background, var(--jp-layout-color0, #111)));\n",
       "    --sklearn-color-border-box: var(--sg-text-color, var(--theme-code-foreground, var(--jp-content-font-color1, white)));\n",
       "    --sklearn-color-icon: #878787;\n",
       "  }\n",
       "}\n",
       "\n",
       "#sk-container-id-1 {\n",
       "  color: var(--sklearn-color-text);\n",
       "}\n",
       "\n",
       "#sk-container-id-1 pre {\n",
       "  padding: 0;\n",
       "}\n",
       "\n",
       "#sk-container-id-1 input.sk-hidden--visually {\n",
       "  border: 0;\n",
       "  clip: rect(1px 1px 1px 1px);\n",
       "  clip: rect(1px, 1px, 1px, 1px);\n",
       "  height: 1px;\n",
       "  margin: -1px;\n",
       "  overflow: hidden;\n",
       "  padding: 0;\n",
       "  position: absolute;\n",
       "  width: 1px;\n",
       "}\n",
       "\n",
       "#sk-container-id-1 div.sk-dashed-wrapped {\n",
       "  border: 1px dashed var(--sklearn-color-line);\n",
       "  margin: 0 0.4em 0.5em 0.4em;\n",
       "  box-sizing: border-box;\n",
       "  padding-bottom: 0.4em;\n",
       "  background-color: var(--sklearn-color-background);\n",
       "}\n",
       "\n",
       "#sk-container-id-1 div.sk-container {\n",
       "  /* jupyter's `normalize.less` sets `[hidden] { display: none; }`\n",
       "     but bootstrap.min.css set `[hidden] { display: none !important; }`\n",
       "     so we also need the `!important` here to be able to override the\n",
       "     default hidden behavior on the sphinx rendered scikit-learn.org.\n",
       "     See: https://github.com/scikit-learn/scikit-learn/issues/21755 */\n",
       "  display: inline-block !important;\n",
       "  position: relative;\n",
       "}\n",
       "\n",
       "#sk-container-id-1 div.sk-text-repr-fallback {\n",
       "  display: none;\n",
       "}\n",
       "\n",
       "div.sk-parallel-item,\n",
       "div.sk-serial,\n",
       "div.sk-item {\n",
       "  /* draw centered vertical line to link estimators */\n",
       "  background-image: linear-gradient(var(--sklearn-color-text-on-default-background), var(--sklearn-color-text-on-default-background));\n",
       "  background-size: 2px 100%;\n",
       "  background-repeat: no-repeat;\n",
       "  background-position: center center;\n",
       "}\n",
       "\n",
       "/* Parallel-specific style estimator block */\n",
       "\n",
       "#sk-container-id-1 div.sk-parallel-item::after {\n",
       "  content: \"\";\n",
       "  width: 100%;\n",
       "  border-bottom: 2px solid var(--sklearn-color-text-on-default-background);\n",
       "  flex-grow: 1;\n",
       "}\n",
       "\n",
       "#sk-container-id-1 div.sk-parallel {\n",
       "  display: flex;\n",
       "  align-items: stretch;\n",
       "  justify-content: center;\n",
       "  background-color: var(--sklearn-color-background);\n",
       "  position: relative;\n",
       "}\n",
       "\n",
       "#sk-container-id-1 div.sk-parallel-item {\n",
       "  display: flex;\n",
       "  flex-direction: column;\n",
       "}\n",
       "\n",
       "#sk-container-id-1 div.sk-parallel-item:first-child::after {\n",
       "  align-self: flex-end;\n",
       "  width: 50%;\n",
       "}\n",
       "\n",
       "#sk-container-id-1 div.sk-parallel-item:last-child::after {\n",
       "  align-self: flex-start;\n",
       "  width: 50%;\n",
       "}\n",
       "\n",
       "#sk-container-id-1 div.sk-parallel-item:only-child::after {\n",
       "  width: 0;\n",
       "}\n",
       "\n",
       "/* Serial-specific style estimator block */\n",
       "\n",
       "#sk-container-id-1 div.sk-serial {\n",
       "  display: flex;\n",
       "  flex-direction: column;\n",
       "  align-items: center;\n",
       "  background-color: var(--sklearn-color-background);\n",
       "  padding-right: 1em;\n",
       "  padding-left: 1em;\n",
       "}\n",
       "\n",
       "\n",
       "/* Toggleable style: style used for estimator/Pipeline/ColumnTransformer box that is\n",
       "clickable and can be expanded/collapsed.\n",
       "- Pipeline and ColumnTransformer use this feature and define the default style\n",
       "- Estimators will overwrite some part of the style using the `sk-estimator` class\n",
       "*/\n",
       "\n",
       "/* Pipeline and ColumnTransformer style (default) */\n",
       "\n",
       "#sk-container-id-1 div.sk-toggleable {\n",
       "  /* Default theme specific background. It is overwritten whether we have a\n",
       "  specific estimator or a Pipeline/ColumnTransformer */\n",
       "  background-color: var(--sklearn-color-background);\n",
       "}\n",
       "\n",
       "/* Toggleable label */\n",
       "#sk-container-id-1 label.sk-toggleable__label {\n",
       "  cursor: pointer;\n",
       "  display: block;\n",
       "  width: 100%;\n",
       "  margin-bottom: 0;\n",
       "  padding: 0.5em;\n",
       "  box-sizing: border-box;\n",
       "  text-align: center;\n",
       "}\n",
       "\n",
       "#sk-container-id-1 label.sk-toggleable__label-arrow:before {\n",
       "  /* Arrow on the left of the label */\n",
       "  content: \"▸\";\n",
       "  float: left;\n",
       "  margin-right: 0.25em;\n",
       "  color: var(--sklearn-color-icon);\n",
       "}\n",
       "\n",
       "#sk-container-id-1 label.sk-toggleable__label-arrow:hover:before {\n",
       "  color: var(--sklearn-color-text);\n",
       "}\n",
       "\n",
       "/* Toggleable content - dropdown */\n",
       "\n",
       "#sk-container-id-1 div.sk-toggleable__content {\n",
       "  max-height: 0;\n",
       "  max-width: 0;\n",
       "  overflow: hidden;\n",
       "  text-align: left;\n",
       "  /* unfitted */\n",
       "  background-color: var(--sklearn-color-unfitted-level-0);\n",
       "}\n",
       "\n",
       "#sk-container-id-1 div.sk-toggleable__content.fitted {\n",
       "  /* fitted */\n",
       "  background-color: var(--sklearn-color-fitted-level-0);\n",
       "}\n",
       "\n",
       "#sk-container-id-1 div.sk-toggleable__content pre {\n",
       "  margin: 0.2em;\n",
       "  border-radius: 0.25em;\n",
       "  color: var(--sklearn-color-text);\n",
       "  /* unfitted */\n",
       "  background-color: var(--sklearn-color-unfitted-level-0);\n",
       "}\n",
       "\n",
       "#sk-container-id-1 div.sk-toggleable__content.fitted pre {\n",
       "  /* unfitted */\n",
       "  background-color: var(--sklearn-color-fitted-level-0);\n",
       "}\n",
       "\n",
       "#sk-container-id-1 input.sk-toggleable__control:checked~div.sk-toggleable__content {\n",
       "  /* Expand drop-down */\n",
       "  max-height: 200px;\n",
       "  max-width: 100%;\n",
       "  overflow: auto;\n",
       "}\n",
       "\n",
       "#sk-container-id-1 input.sk-toggleable__control:checked~label.sk-toggleable__label-arrow:before {\n",
       "  content: \"▾\";\n",
       "}\n",
       "\n",
       "/* Pipeline/ColumnTransformer-specific style */\n",
       "\n",
       "#sk-container-id-1 div.sk-label input.sk-toggleable__control:checked~label.sk-toggleable__label {\n",
       "  color: var(--sklearn-color-text);\n",
       "  background-color: var(--sklearn-color-unfitted-level-2);\n",
       "}\n",
       "\n",
       "#sk-container-id-1 div.sk-label.fitted input.sk-toggleable__control:checked~label.sk-toggleable__label {\n",
       "  background-color: var(--sklearn-color-fitted-level-2);\n",
       "}\n",
       "\n",
       "/* Estimator-specific style */\n",
       "\n",
       "/* Colorize estimator box */\n",
       "#sk-container-id-1 div.sk-estimator input.sk-toggleable__control:checked~label.sk-toggleable__label {\n",
       "  /* unfitted */\n",
       "  background-color: var(--sklearn-color-unfitted-level-2);\n",
       "}\n",
       "\n",
       "#sk-container-id-1 div.sk-estimator.fitted input.sk-toggleable__control:checked~label.sk-toggleable__label {\n",
       "  /* fitted */\n",
       "  background-color: var(--sklearn-color-fitted-level-2);\n",
       "}\n",
       "\n",
       "#sk-container-id-1 div.sk-label label.sk-toggleable__label,\n",
       "#sk-container-id-1 div.sk-label label {\n",
       "  /* The background is the default theme color */\n",
       "  color: var(--sklearn-color-text-on-default-background);\n",
       "}\n",
       "\n",
       "/* On hover, darken the color of the background */\n",
       "#sk-container-id-1 div.sk-label:hover label.sk-toggleable__label {\n",
       "  color: var(--sklearn-color-text);\n",
       "  background-color: var(--sklearn-color-unfitted-level-2);\n",
       "}\n",
       "\n",
       "/* Label box, darken color on hover, fitted */\n",
       "#sk-container-id-1 div.sk-label.fitted:hover label.sk-toggleable__label.fitted {\n",
       "  color: var(--sklearn-color-text);\n",
       "  background-color: var(--sklearn-color-fitted-level-2);\n",
       "}\n",
       "\n",
       "/* Estimator label */\n",
       "\n",
       "#sk-container-id-1 div.sk-label label {\n",
       "  font-family: monospace;\n",
       "  font-weight: bold;\n",
       "  display: inline-block;\n",
       "  line-height: 1.2em;\n",
       "}\n",
       "\n",
       "#sk-container-id-1 div.sk-label-container {\n",
       "  text-align: center;\n",
       "}\n",
       "\n",
       "/* Estimator-specific */\n",
       "#sk-container-id-1 div.sk-estimator {\n",
       "  font-family: monospace;\n",
       "  border: 1px dotted var(--sklearn-color-border-box);\n",
       "  border-radius: 0.25em;\n",
       "  box-sizing: border-box;\n",
       "  margin-bottom: 0.5em;\n",
       "  /* unfitted */\n",
       "  background-color: var(--sklearn-color-unfitted-level-0);\n",
       "}\n",
       "\n",
       "#sk-container-id-1 div.sk-estimator.fitted {\n",
       "  /* fitted */\n",
       "  background-color: var(--sklearn-color-fitted-level-0);\n",
       "}\n",
       "\n",
       "/* on hover */\n",
       "#sk-container-id-1 div.sk-estimator:hover {\n",
       "  /* unfitted */\n",
       "  background-color: var(--sklearn-color-unfitted-level-2);\n",
       "}\n",
       "\n",
       "#sk-container-id-1 div.sk-estimator.fitted:hover {\n",
       "  /* fitted */\n",
       "  background-color: var(--sklearn-color-fitted-level-2);\n",
       "}\n",
       "\n",
       "/* Specification for estimator info (e.g. \"i\" and \"?\") */\n",
       "\n",
       "/* Common style for \"i\" and \"?\" */\n",
       "\n",
       ".sk-estimator-doc-link,\n",
       "a:link.sk-estimator-doc-link,\n",
       "a:visited.sk-estimator-doc-link {\n",
       "  float: right;\n",
       "  font-size: smaller;\n",
       "  line-height: 1em;\n",
       "  font-family: monospace;\n",
       "  background-color: var(--sklearn-color-background);\n",
       "  border-radius: 1em;\n",
       "  height: 1em;\n",
       "  width: 1em;\n",
       "  text-decoration: none !important;\n",
       "  margin-left: 1ex;\n",
       "  /* unfitted */\n",
       "  border: var(--sklearn-color-unfitted-level-1) 1pt solid;\n",
       "  color: var(--sklearn-color-unfitted-level-1);\n",
       "}\n",
       "\n",
       ".sk-estimator-doc-link.fitted,\n",
       "a:link.sk-estimator-doc-link.fitted,\n",
       "a:visited.sk-estimator-doc-link.fitted {\n",
       "  /* fitted */\n",
       "  border: var(--sklearn-color-fitted-level-1) 1pt solid;\n",
       "  color: var(--sklearn-color-fitted-level-1);\n",
       "}\n",
       "\n",
       "/* On hover */\n",
       "div.sk-estimator:hover .sk-estimator-doc-link:hover,\n",
       ".sk-estimator-doc-link:hover,\n",
       "div.sk-label-container:hover .sk-estimator-doc-link:hover,\n",
       ".sk-estimator-doc-link:hover {\n",
       "  /* unfitted */\n",
       "  background-color: var(--sklearn-color-unfitted-level-3);\n",
       "  color: var(--sklearn-color-background);\n",
       "  text-decoration: none;\n",
       "}\n",
       "\n",
       "div.sk-estimator.fitted:hover .sk-estimator-doc-link.fitted:hover,\n",
       ".sk-estimator-doc-link.fitted:hover,\n",
       "div.sk-label-container:hover .sk-estimator-doc-link.fitted:hover,\n",
       ".sk-estimator-doc-link.fitted:hover {\n",
       "  /* fitted */\n",
       "  background-color: var(--sklearn-color-fitted-level-3);\n",
       "  color: var(--sklearn-color-background);\n",
       "  text-decoration: none;\n",
       "}\n",
       "\n",
       "/* Span, style for the box shown on hovering the info icon */\n",
       ".sk-estimator-doc-link span {\n",
       "  display: none;\n",
       "  z-index: 9999;\n",
       "  position: relative;\n",
       "  font-weight: normal;\n",
       "  right: .2ex;\n",
       "  padding: .5ex;\n",
       "  margin: .5ex;\n",
       "  width: min-content;\n",
       "  min-width: 20ex;\n",
       "  max-width: 50ex;\n",
       "  color: var(--sklearn-color-text);\n",
       "  box-shadow: 2pt 2pt 4pt #999;\n",
       "  /* unfitted */\n",
       "  background: var(--sklearn-color-unfitted-level-0);\n",
       "  border: .5pt solid var(--sklearn-color-unfitted-level-3);\n",
       "}\n",
       "\n",
       ".sk-estimator-doc-link.fitted span {\n",
       "  /* fitted */\n",
       "  background: var(--sklearn-color-fitted-level-0);\n",
       "  border: var(--sklearn-color-fitted-level-3);\n",
       "}\n",
       "\n",
       ".sk-estimator-doc-link:hover span {\n",
       "  display: block;\n",
       "}\n",
       "\n",
       "/* \"?\"-specific style due to the `<a>` HTML tag */\n",
       "\n",
       "#sk-container-id-1 a.estimator_doc_link {\n",
       "  float: right;\n",
       "  font-size: 1rem;\n",
       "  line-height: 1em;\n",
       "  font-family: monospace;\n",
       "  background-color: var(--sklearn-color-background);\n",
       "  border-radius: 1rem;\n",
       "  height: 1rem;\n",
       "  width: 1rem;\n",
       "  text-decoration: none;\n",
       "  /* unfitted */\n",
       "  color: var(--sklearn-color-unfitted-level-1);\n",
       "  border: var(--sklearn-color-unfitted-level-1) 1pt solid;\n",
       "}\n",
       "\n",
       "#sk-container-id-1 a.estimator_doc_link.fitted {\n",
       "  /* fitted */\n",
       "  border: var(--sklearn-color-fitted-level-1) 1pt solid;\n",
       "  color: var(--sklearn-color-fitted-level-1);\n",
       "}\n",
       "\n",
       "/* On hover */\n",
       "#sk-container-id-1 a.estimator_doc_link:hover {\n",
       "  /* unfitted */\n",
       "  background-color: var(--sklearn-color-unfitted-level-3);\n",
       "  color: var(--sklearn-color-background);\n",
       "  text-decoration: none;\n",
       "}\n",
       "\n",
       "#sk-container-id-1 a.estimator_doc_link.fitted:hover {\n",
       "  /* fitted */\n",
       "  background-color: var(--sklearn-color-fitted-level-3);\n",
       "}\n",
       "</style><div id=\"sk-container-id-1\" class=\"sk-top-container\"><div class=\"sk-text-repr-fallback\"><pre>ExtraTreesClassifier()</pre><b>In a Jupyter environment, please rerun this cell to show the HTML representation or trust the notebook. <br />On GitHub, the HTML representation is unable to render, please try loading this page with nbviewer.org.</b></div><div class=\"sk-container\" hidden><div class=\"sk-item\"><div class=\"sk-estimator fitted sk-toggleable\"><input class=\"sk-toggleable__control sk-hidden--visually\" id=\"sk-estimator-id-1\" type=\"checkbox\" checked><label for=\"sk-estimator-id-1\" class=\"sk-toggleable__label fitted sk-toggleable__label-arrow fitted\">&nbsp;&nbsp;ExtraTreesClassifier<a class=\"sk-estimator-doc-link fitted\" rel=\"noreferrer\" target=\"_blank\" href=\"https://scikit-learn.org/1.4/modules/generated/sklearn.ensemble.ExtraTreesClassifier.html\">?<span>Documentation for ExtraTreesClassifier</span></a><span class=\"sk-estimator-doc-link fitted\">i<span>Fitted</span></span></label><div class=\"sk-toggleable__content fitted\"><pre>ExtraTreesClassifier()</pre></div> </div></div></div></div>"
      ],
      "text/plain": [
       "ExtraTreesClassifier()"
      ]
     },
     "execution_count": 119,
     "metadata": {},
     "output_type": "execute_result"
    }
   ],
   "source": [
    "model.fit(X_train,Y_train)"
   ]
  },
  {
   "cell_type": "code",
   "execution_count": 120,
   "id": "2461a590",
   "metadata": {},
   "outputs": [],
   "source": [
    "X_train_prediction=model.predict(X_train)\n",
    "training_accuracy=accuracy_score(X_train_prediction,Y_train)"
   ]
  },
  {
   "cell_type": "code",
   "execution_count": 121,
   "id": "e06bb970",
   "metadata": {},
   "outputs": [
    {
     "data": {
      "text/plain": [
       "1.0"
      ]
     },
     "execution_count": 121,
     "metadata": {},
     "output_type": "execute_result"
    }
   ],
   "source": [
    "training_accuracy"
   ]
  },
  {
   "cell_type": "code",
   "execution_count": 122,
   "id": "47d6d2ec",
   "metadata": {},
   "outputs": [],
   "source": [
    "X_testing_prediction=model.predict(X_test)\n",
    "testing_accuracy=accuracy_score(Y_test,X_testing_prediction)"
   ]
  },
  {
   "cell_type": "code",
   "execution_count": 123,
   "id": "cf5005e8",
   "metadata": {},
   "outputs": [
    {
     "data": {
      "text/plain": [
       "0.9230769230769231"
      ]
     },
     "execution_count": 123,
     "metadata": {},
     "output_type": "execute_result"
    }
   ],
   "source": [
    "testing_accuracy"
   ]
  },
  {
   "cell_type": "code",
   "execution_count": 126,
   "id": "d81e98ce",
   "metadata": {},
   "outputs": [
    {
     "data": {
      "text/plain": [
       "<Axes: >"
      ]
     },
     "execution_count": 126,
     "metadata": {},
     "output_type": "execute_result"
    },
    {
     "data": {
      "image/png": "[encoded data removed]",
      "text/plain": [
       "<Figure size 640x480 with 1 Axes>"
      ]
     },
     "metadata": {},
     "output_type": "display_data"
    }
   ],
   "source": [
    "#confusion matrix for that\n",
    "from sklearn.metrics import confusion_matrix\n",
    "cm= confusion_matrix(X_testing_prediction,Y_test)\n",
    "sns.heatmap(cm, annot=True, cbar=False, cmap=\"viridis_r\",\n",
    "            yticklabels=model.classes_, xticklabels=model.classes_)"
   ]
  },
  {
   "cell_type": "code",
   "execution_count": 127,
   "id": "a1bc58a6",
   "metadata": {},
   "outputs": [
    {
     "name": "stdout",
     "output_type": "stream",
     "text": [
      "              precision    recall  f1-score   support\n",
      "\n",
      "           0       1.00      1.00      1.00        13\n",
      "           1       1.00      1.00      1.00         8\n",
      "           2       0.71      0.71      0.71         7\n",
      "           3       0.75      0.75      0.75         8\n",
      "           4       1.00      1.00      1.00        16\n",
      "\n",
      "    accuracy                           0.92        52\n",
      "   macro avg       0.89      0.89      0.89        52\n",
      "weighted avg       0.92      0.92      0.92        52\n",
      "\n"
     ]
    }
   ],
   "source": [
    "# Print the precision and recall, among other metrics\n",
    "from sklearn import metrics\n",
    "print(metrics.classification_report(Y_test, X_testing_prediction))"
   ]
  },
  {
   "cell_type": "code",
   "execution_count": null,
   "id": "4718a326",
   "metadata": {},
   "outputs": [],
   "source": []
  }
 ],
 "metadata": {
  "kernelspec": {
   "display_name": "Python 3 (ipykernel)",
   "language": "python",
   "name": "python3"
  },
  "language_info": {
   "codemirror_mode": {
    "name": "ipython",
    "version": 3
   },
   "file_extension": ".py",
   "mimetype": "text/x-python",
   "name": "python",
   "nbconvert_exporter": "python",
   "pygments_lexer": "ipython3",
   "version": "3.11.5"
  }
 },
 "nbformat": 4,
 "nbformat_minor": 5
}
